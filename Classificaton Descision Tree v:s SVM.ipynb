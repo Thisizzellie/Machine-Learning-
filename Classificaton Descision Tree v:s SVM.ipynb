{
 "cells": [
  {
   "cell_type": "markdown",
   "id": "8314d678",
   "metadata": {},
   "source": [
    "# Background Information \n",
    "\n",
    "Comparing Assuracy of Decision Tree v/s SVM \n",
    "\n"
   ]
  },
  {
   "cell_type": "code",
   "execution_count": null,
   "id": "704d7d62",
   "metadata": {},
   "outputs": [],
   "source": [
    "# Step 1 (Set-Up og all the required packages)\n",
    "\n",
    "# To plot pretty figure\n",
    "import matplotlib \n",
    "import matplotlib.pyplot as plt \n",
    "\n",
    "# Common import \n",
    "import numpy as np \n",
    "import pandas as pd \n",
    "import sklearn.linear_model"
   ]
  },
  {
   "cell_type": "code",
   "execution_count": 14,
   "id": "e306da0d",
   "metadata": {},
   "outputs": [],
   "source": []
  },
  {
   "cell_type": "code",
   "execution_count": 20,
   "id": "a3a34ab7",
   "metadata": {},
   "outputs": [],
   "source": [
    "#load the data  \n",
    "\n",
    "from sklearn.datasets import make_moons\n",
    "X, y = make_moons(n_samples=10000, noise=0.4, random_state=42)"
   ]
  },
  {
   "cell_type": "code",
   "execution_count": null,
   "id": "c9cc23f0",
   "metadata": {},
   "outputs": [],
   "source": []
  },
  {
   "cell_type": "code",
   "execution_count": 51,
   "id": "5a88d7bb",
   "metadata": {},
   "outputs": [],
   "source": [
    "#Step 2 Selecting the model and required calculations metrics\n",
    "\n",
    "#(import classifers and dataset)\n",
    "\n",
    "from sklearn.tree import DecisionTreeClassifier\n",
    "tree_clf = DecisionTreeClassifier()\n",
    "from sklearn.svm import SVC\n",
    "from sklearn.metrics import mean_squared_error, accuracy_score, precision_score, recall_score, roc_curve, auc\n",
    "\n",
    "#Step 3 (train and test split)\n",
    "\n",
    "#Split the dataset into a training set and test set \n",
    "\n",
    "from sklearn.model_selection import train_test_split\n",
    "X_train, X_test, y_train, y_test = train_test_split(X, y, test_size=0.2, random_state=42)\n",
    "\n"
   ]
  },
  {
   "cell_type": "code",
   "execution_count": 49,
   "id": "70cc9b17",
   "metadata": {},
   "outputs": [
    {
     "data": {
      "text/html": [
       "<style>#sk-container-id-1 {color: black;background-color: white;}#sk-container-id-1 pre{padding: 0;}#sk-container-id-1 div.sk-toggleable {background-color: white;}#sk-container-id-1 label.sk-toggleable__label {cursor: pointer;display: block;width: 100%;margin-bottom: 0;padding: 0.3em;box-sizing: border-box;text-align: center;}#sk-container-id-1 label.sk-toggleable__label-arrow:before {content: \"▸\";float: left;margin-right: 0.25em;color: #696969;}#sk-container-id-1 label.sk-toggleable__label-arrow:hover:before {color: black;}#sk-container-id-1 div.sk-estimator:hover label.sk-toggleable__label-arrow:before {color: black;}#sk-container-id-1 div.sk-toggleable__content {max-height: 0;max-width: 0;overflow: hidden;text-align: left;background-color: #f0f8ff;}#sk-container-id-1 div.sk-toggleable__content pre {margin: 0.2em;color: black;border-radius: 0.25em;background-color: #f0f8ff;}#sk-container-id-1 input.sk-toggleable__control:checked~div.sk-toggleable__content {max-height: 200px;max-width: 100%;overflow: auto;}#sk-container-id-1 input.sk-toggleable__control:checked~label.sk-toggleable__label-arrow:before {content: \"▾\";}#sk-container-id-1 div.sk-estimator input.sk-toggleable__control:checked~label.sk-toggleable__label {background-color: #d4ebff;}#sk-container-id-1 div.sk-label input.sk-toggleable__control:checked~label.sk-toggleable__label {background-color: #d4ebff;}#sk-container-id-1 input.sk-hidden--visually {border: 0;clip: rect(1px 1px 1px 1px);clip: rect(1px, 1px, 1px, 1px);height: 1px;margin: -1px;overflow: hidden;padding: 0;position: absolute;width: 1px;}#sk-container-id-1 div.sk-estimator {font-family: monospace;background-color: #f0f8ff;border: 1px dotted black;border-radius: 0.25em;box-sizing: border-box;margin-bottom: 0.5em;}#sk-container-id-1 div.sk-estimator:hover {background-color: #d4ebff;}#sk-container-id-1 div.sk-parallel-item::after {content: \"\";width: 100%;border-bottom: 1px solid gray;flex-grow: 1;}#sk-container-id-1 div.sk-label:hover label.sk-toggleable__label {background-color: #d4ebff;}#sk-container-id-1 div.sk-serial::before {content: \"\";position: absolute;border-left: 1px solid gray;box-sizing: border-box;top: 0;bottom: 0;left: 50%;z-index: 0;}#sk-container-id-1 div.sk-serial {display: flex;flex-direction: column;align-items: center;background-color: white;padding-right: 0.2em;padding-left: 0.2em;position: relative;}#sk-container-id-1 div.sk-item {position: relative;z-index: 1;}#sk-container-id-1 div.sk-parallel {display: flex;align-items: stretch;justify-content: center;background-color: white;position: relative;}#sk-container-id-1 div.sk-item::before, #sk-container-id-1 div.sk-parallel-item::before {content: \"\";position: absolute;border-left: 1px solid gray;box-sizing: border-box;top: 0;bottom: 0;left: 50%;z-index: -1;}#sk-container-id-1 div.sk-parallel-item {display: flex;flex-direction: column;z-index: 1;position: relative;background-color: white;}#sk-container-id-1 div.sk-parallel-item:first-child::after {align-self: flex-end;width: 50%;}#sk-container-id-1 div.sk-parallel-item:last-child::after {align-self: flex-start;width: 50%;}#sk-container-id-1 div.sk-parallel-item:only-child::after {width: 0;}#sk-container-id-1 div.sk-dashed-wrapped {border: 1px dashed gray;margin: 0 0.4em 0.5em 0.4em;box-sizing: border-box;padding-bottom: 0.4em;background-color: white;}#sk-container-id-1 div.sk-label label {font-family: monospace;font-weight: bold;display: inline-block;line-height: 1.2em;}#sk-container-id-1 div.sk-label-container {text-align: center;}#sk-container-id-1 div.sk-container {/* jupyter's `normalize.less` sets `[hidden] { display: none; }` but bootstrap.min.css set `[hidden] { display: none !important; }` so we also need the `!important` here to be able to override the default hidden behavior on the sphinx rendered scikit-learn.org. See: https://github.com/scikit-learn/scikit-learn/issues/21755 */display: inline-block !important;position: relative;}#sk-container-id-1 div.sk-text-repr-fallback {display: none;}</style><div id=\"sk-container-id-1\" class=\"sk-top-container\"><div class=\"sk-text-repr-fallback\"><pre>DecisionTreeClassifier(random_state=42)</pre><b>In a Jupyter environment, please rerun this cell to show the HTML representation or trust the notebook. <br />On GitHub, the HTML representation is unable to render, please try loading this page with nbviewer.org.</b></div><div class=\"sk-container\" hidden><div class=\"sk-item\"><div class=\"sk-estimator sk-toggleable\"><input class=\"sk-toggleable__control sk-hidden--visually\" id=\"sk-estimator-id-1\" type=\"checkbox\" checked><label for=\"sk-estimator-id-1\" class=\"sk-toggleable__label sk-toggleable__label-arrow\">DecisionTreeClassifier</label><div class=\"sk-toggleable__content\"><pre>DecisionTreeClassifier(random_state=42)</pre></div></div></div></div></div>"
      ],
      "text/plain": [
       "DecisionTreeClassifier(random_state=42)"
      ]
     },
     "execution_count": 49,
     "metadata": {},
     "output_type": "execute_result"
    }
   ],
   "source": [
    "#Step 4: training classier 1 \n",
    "    \n",
    "#Training a DecisionTreeClassifer on the moons dataset. \n",
    "\n",
    "tree = DecisionTreeClassifier(random_state=42)\n",
    "tree.fit(X_train, y_train)\n",
    "\n"
   ]
  },
  {
   "cell_type": "code",
   "execution_count": 61,
   "id": "3489fc44",
   "metadata": {},
   "outputs": [
    {
     "name": "stdout",
     "output_type": "stream",
     "text": [
      "Fitting 3 folds for each of 294 candidates, totalling 882 fits\n"
     ]
    },
    {
     "data": {
      "text/plain": [
       "0.8695"
      ]
     },
     "execution_count": 61,
     "metadata": {},
     "output_type": "execute_result"
    }
   ],
   "source": [
    "#Use GridsearchCV\n",
    "\n",
    "#To find the best hyperparameters for a decision tree classifier.\n",
    "\n",
    "from sklearn.model_selection import GridSearchCV\n",
    "\n",
    "parameter = {\n",
    "             'criterion' : [\"gini\", \"entropy\"],\n",
    "             'max_leaf_nodes': list(range(2, 50)), \n",
    "             'min_samples_split': [2, 3, 4]\n",
    "            }\n",
    "\n",
    "#Use grid search with cross-validation \n",
    "#To find the best hyperparameters for a decision tree classifier.\n",
    "   \n",
    "from sklearn.model_selection import GridSearchCV\n",
    "params = {'max_leaf_nodes': list(range(2, 100)), 'min_samples_split': [2, 3, 4]}\n",
    "grid_search_cv = GridSearchCV(DecisionTreeClassifier(random_state=42), params, n_jobs=-1, verbose=1, cv=3)\n",
    "grid_search_cv.fit(X_train, y_train)\n",
    "grid_search_cv.best_estimator_\n",
    "from sklearn.metrics import accuracy_score\n",
    "y_pred = grid_search_cv.predict(X_test)\n",
    "accuracy_score(y_test, y_pred)\n"
   ]
  },
  {
   "cell_type": "markdown",
   "id": "ff7a8227",
   "metadata": {},
   "source": [
    "Accuracy of approximately 86% for DecisionTreeClasifer using best hyperparameters "
   ]
  },
  {
   "cell_type": "code",
   "execution_count": 89,
   "id": "6a594a79",
   "metadata": {},
   "outputs": [
    {
     "name": "stdout",
     "output_type": "stream",
     "text": [
      "{'max_leaf_nodes': 17, 'min_samples_split': 2}\n",
      "DecisionTreeClassifier(max_leaf_nodes=17, random_state=42)\n"
     ]
    }
   ],
   "source": [
    "\n",
    "# Print the best parameters after tuning\n",
    "print(grid_search_cv.best_params_)\n",
    "\n",
    "# Print the best estimator after hyper-parameter tuning\n",
    "print(grid_search_cv.best_estimator_)\n",
    "\n",
    "\n"
   ]
  },
  {
   "cell_type": "code",
   "execution_count": 50,
   "id": "6a59e34d",
   "metadata": {},
   "outputs": [
    {
     "data": {
      "text/html": [
       "<style>#sk-container-id-2 {color: black;background-color: white;}#sk-container-id-2 pre{padding: 0;}#sk-container-id-2 div.sk-toggleable {background-color: white;}#sk-container-id-2 label.sk-toggleable__label {cursor: pointer;display: block;width: 100%;margin-bottom: 0;padding: 0.3em;box-sizing: border-box;text-align: center;}#sk-container-id-2 label.sk-toggleable__label-arrow:before {content: \"▸\";float: left;margin-right: 0.25em;color: #696969;}#sk-container-id-2 label.sk-toggleable__label-arrow:hover:before {color: black;}#sk-container-id-2 div.sk-estimator:hover label.sk-toggleable__label-arrow:before {color: black;}#sk-container-id-2 div.sk-toggleable__content {max-height: 0;max-width: 0;overflow: hidden;text-align: left;background-color: #f0f8ff;}#sk-container-id-2 div.sk-toggleable__content pre {margin: 0.2em;color: black;border-radius: 0.25em;background-color: #f0f8ff;}#sk-container-id-2 input.sk-toggleable__control:checked~div.sk-toggleable__content {max-height: 200px;max-width: 100%;overflow: auto;}#sk-container-id-2 input.sk-toggleable__control:checked~label.sk-toggleable__label-arrow:before {content: \"▾\";}#sk-container-id-2 div.sk-estimator input.sk-toggleable__control:checked~label.sk-toggleable__label {background-color: #d4ebff;}#sk-container-id-2 div.sk-label input.sk-toggleable__control:checked~label.sk-toggleable__label {background-color: #d4ebff;}#sk-container-id-2 input.sk-hidden--visually {border: 0;clip: rect(1px 1px 1px 1px);clip: rect(1px, 1px, 1px, 1px);height: 1px;margin: -1px;overflow: hidden;padding: 0;position: absolute;width: 1px;}#sk-container-id-2 div.sk-estimator {font-family: monospace;background-color: #f0f8ff;border: 1px dotted black;border-radius: 0.25em;box-sizing: border-box;margin-bottom: 0.5em;}#sk-container-id-2 div.sk-estimator:hover {background-color: #d4ebff;}#sk-container-id-2 div.sk-parallel-item::after {content: \"\";width: 100%;border-bottom: 1px solid gray;flex-grow: 1;}#sk-container-id-2 div.sk-label:hover label.sk-toggleable__label {background-color: #d4ebff;}#sk-container-id-2 div.sk-serial::before {content: \"\";position: absolute;border-left: 1px solid gray;box-sizing: border-box;top: 0;bottom: 0;left: 50%;z-index: 0;}#sk-container-id-2 div.sk-serial {display: flex;flex-direction: column;align-items: center;background-color: white;padding-right: 0.2em;padding-left: 0.2em;position: relative;}#sk-container-id-2 div.sk-item {position: relative;z-index: 1;}#sk-container-id-2 div.sk-parallel {display: flex;align-items: stretch;justify-content: center;background-color: white;position: relative;}#sk-container-id-2 div.sk-item::before, #sk-container-id-2 div.sk-parallel-item::before {content: \"\";position: absolute;border-left: 1px solid gray;box-sizing: border-box;top: 0;bottom: 0;left: 50%;z-index: -1;}#sk-container-id-2 div.sk-parallel-item {display: flex;flex-direction: column;z-index: 1;position: relative;background-color: white;}#sk-container-id-2 div.sk-parallel-item:first-child::after {align-self: flex-end;width: 50%;}#sk-container-id-2 div.sk-parallel-item:last-child::after {align-self: flex-start;width: 50%;}#sk-container-id-2 div.sk-parallel-item:only-child::after {width: 0;}#sk-container-id-2 div.sk-dashed-wrapped {border: 1px dashed gray;margin: 0 0.4em 0.5em 0.4em;box-sizing: border-box;padding-bottom: 0.4em;background-color: white;}#sk-container-id-2 div.sk-label label {font-family: monospace;font-weight: bold;display: inline-block;line-height: 1.2em;}#sk-container-id-2 div.sk-label-container {text-align: center;}#sk-container-id-2 div.sk-container {/* jupyter's `normalize.less` sets `[hidden] { display: none; }` but bootstrap.min.css set `[hidden] { display: none !important; }` so we also need the `!important` here to be able to override the default hidden behavior on the sphinx rendered scikit-learn.org. See: https://github.com/scikit-learn/scikit-learn/issues/21755 */display: inline-block !important;position: relative;}#sk-container-id-2 div.sk-text-repr-fallback {display: none;}</style><div id=\"sk-container-id-2\" class=\"sk-top-container\"><div class=\"sk-text-repr-fallback\"><pre>SVC(random_state=42)</pre><b>In a Jupyter environment, please rerun this cell to show the HTML representation or trust the notebook. <br />On GitHub, the HTML representation is unable to render, please try loading this page with nbviewer.org.</b></div><div class=\"sk-container\" hidden><div class=\"sk-item\"><div class=\"sk-estimator sk-toggleable\"><input class=\"sk-toggleable__control sk-hidden--visually\" id=\"sk-estimator-id-2\" type=\"checkbox\" checked><label for=\"sk-estimator-id-2\" class=\"sk-toggleable__label sk-toggleable__label-arrow\">SVC</label><div class=\"sk-toggleable__content\"><pre>SVC(random_state=42)</pre></div></div></div></div></div>"
      ],
      "text/plain": [
       "SVC(random_state=42)"
      ]
     },
     "execution_count": 50,
     "metadata": {},
     "output_type": "execute_result"
    }
   ],
   "source": [
    "#Step 5: Training classifer 2 \n",
    "\n",
    "#Training a SVC classifier on the monns dataset \n",
    "\n",
    "svm = SVC(random_state=42)\n",
    "svm.fit(X_train, y_train)"
   ]
  },
  {
   "cell_type": "code",
   "execution_count": 80,
   "id": "fcf26f42",
   "metadata": {},
   "outputs": [
    {
     "name": "stdout",
     "output_type": "stream",
     "text": [
      "Fitting 5 folds for each of 25 candidates, totalling 125 fits\n",
      "[CV 1/5] END ........C=0.1, gamma=1, kernel=rbf;, score=0.847 total time=   1.2s\n",
      "[CV 2/5] END ........C=0.1, gamma=1, kernel=rbf;, score=0.875 total time=   1.2s\n",
      "[CV 3/5] END ........C=0.1, gamma=1, kernel=rbf;, score=0.868 total time=   1.2s\n",
      "[CV 4/5] END ........C=0.1, gamma=1, kernel=rbf;, score=0.864 total time=   1.2s\n",
      "[CV 5/5] END ........C=0.1, gamma=1, kernel=rbf;, score=0.856 total time=   1.2s\n",
      "[CV 1/5] END ......C=0.1, gamma=0.1, kernel=rbf;, score=0.817 total time=   1.4s\n",
      "[CV 2/5] END ......C=0.1, gamma=0.1, kernel=rbf;, score=0.843 total time=   1.5s\n",
      "[CV 3/5] END ......C=0.1, gamma=0.1, kernel=rbf;, score=0.846 total time=   1.5s\n",
      "[CV 4/5] END ......C=0.1, gamma=0.1, kernel=rbf;, score=0.839 total time=   1.4s\n",
      "[CV 5/5] END ......C=0.1, gamma=0.1, kernel=rbf;, score=0.832 total time=   1.8s\n",
      "[CV 1/5] END .....C=0.1, gamma=0.01, kernel=rbf;, score=0.802 total time=   1.8s\n",
      "[CV 2/5] END .....C=0.1, gamma=0.01, kernel=rbf;, score=0.828 total time=   1.8s\n",
      "[CV 3/5] END .....C=0.1, gamma=0.01, kernel=rbf;, score=0.833 total time=   1.8s\n",
      "[CV 4/5] END .....C=0.1, gamma=0.01, kernel=rbf;, score=0.826 total time=   1.8s\n",
      "[CV 5/5] END .....C=0.1, gamma=0.01, kernel=rbf;, score=0.818 total time=   1.8s\n",
      "[CV 1/5] END ....C=0.1, gamma=0.001, kernel=rbf;, score=0.774 total time=   3.2s\n",
      "[CV 2/5] END ....C=0.1, gamma=0.001, kernel=rbf;, score=0.805 total time=   3.7s\n",
      "[CV 3/5] END ....C=0.1, gamma=0.001, kernel=rbf;, score=0.794 total time=   3.4s\n",
      "[CV 4/5] END ....C=0.1, gamma=0.001, kernel=rbf;, score=0.789 total time=   3.3s\n",
      "[CV 5/5] END ....C=0.1, gamma=0.001, kernel=rbf;, score=0.787 total time=   3.5s\n",
      "[CV 1/5] END ...C=0.1, gamma=0.0001, kernel=rbf;, score=0.501 total time=   3.8s\n",
      "[CV 2/5] END ...C=0.1, gamma=0.0001, kernel=rbf;, score=0.501 total time=   5.0s\n",
      "[CV 3/5] END ...C=0.1, gamma=0.0001, kernel=rbf;, score=0.502 total time=   4.7s\n",
      "[CV 4/5] END ...C=0.1, gamma=0.0001, kernel=rbf;, score=0.502 total time=   3.9s\n",
      "[CV 5/5] END ...C=0.1, gamma=0.0001, kernel=rbf;, score=0.502 total time=   3.4s\n",
      "[CV 1/5] END ..........C=1, gamma=1, kernel=rbf;, score=0.848 total time=   1.3s\n",
      "[CV 2/5] END ..........C=1, gamma=1, kernel=rbf;, score=0.875 total time=   1.4s\n",
      "[CV 3/5] END ..........C=1, gamma=1, kernel=rbf;, score=0.868 total time=   1.3s\n",
      "[CV 4/5] END ..........C=1, gamma=1, kernel=rbf;, score=0.869 total time=   1.2s\n",
      "[CV 5/5] END ..........C=1, gamma=1, kernel=rbf;, score=0.859 total time=   1.3s\n",
      "[CV 1/5] END ........C=1, gamma=0.1, kernel=rbf;, score=0.835 total time=   1.4s\n",
      "[CV 2/5] END ........C=1, gamma=0.1, kernel=rbf;, score=0.859 total time=   1.4s\n",
      "[CV 3/5] END ........C=1, gamma=0.1, kernel=rbf;, score=0.863 total time=   1.4s\n",
      "[CV 4/5] END ........C=1, gamma=0.1, kernel=rbf;, score=0.849 total time=   1.8s\n",
      "[CV 5/5] END ........C=1, gamma=0.1, kernel=rbf;, score=0.841 total time=   1.5s\n",
      "[CV 1/5] END .......C=1, gamma=0.01, kernel=rbf;, score=0.810 total time=   2.2s\n",
      "[CV 2/5] END .......C=1, gamma=0.01, kernel=rbf;, score=0.837 total time=   3.2s\n",
      "[CV 3/5] END .......C=1, gamma=0.01, kernel=rbf;, score=0.838 total time=   2.9s\n",
      "[CV 4/5] END .......C=1, gamma=0.01, kernel=rbf;, score=0.833 total time=   1.9s\n",
      "[CV 5/5] END .......C=1, gamma=0.01, kernel=rbf;, score=0.823 total time=   1.9s\n",
      "[CV 1/5] END ......C=1, gamma=0.001, kernel=rbf;, score=0.802 total time=   2.6s\n",
      "[CV 2/5] END ......C=1, gamma=0.001, kernel=rbf;, score=0.828 total time=   2.8s\n",
      "[CV 3/5] END ......C=1, gamma=0.001, kernel=rbf;, score=0.832 total time=   2.2s\n",
      "[CV 4/5] END ......C=1, gamma=0.001, kernel=rbf;, score=0.826 total time=   2.0s\n",
      "[CV 5/5] END ......C=1, gamma=0.001, kernel=rbf;, score=0.818 total time=   2.0s\n",
      "[CV 1/5] END .....C=1, gamma=0.0001, kernel=rbf;, score=0.773 total time=   4.3s\n",
      "[CV 2/5] END .....C=1, gamma=0.0001, kernel=rbf;, score=0.805 total time=   3.4s\n",
      "[CV 3/5] END .....C=1, gamma=0.0001, kernel=rbf;, score=0.794 total time=   4.0s\n",
      "[CV 4/5] END .....C=1, gamma=0.0001, kernel=rbf;, score=0.789 total time=   3.7s\n",
      "[CV 5/5] END .....C=1, gamma=0.0001, kernel=rbf;, score=0.787 total time=   3.7s\n",
      "[CV 1/5] END .........C=10, gamma=1, kernel=rbf;, score=0.850 total time=   1.9s\n",
      "[CV 2/5] END .........C=10, gamma=1, kernel=rbf;, score=0.874 total time=   1.8s\n",
      "[CV 3/5] END .........C=10, gamma=1, kernel=rbf;, score=0.869 total time=   1.7s\n",
      "[CV 4/5] END .........C=10, gamma=1, kernel=rbf;, score=0.869 total time=   1.9s\n",
      "[CV 5/5] END .........C=10, gamma=1, kernel=rbf;, score=0.858 total time=   1.7s\n",
      "[CV 1/5] END .......C=10, gamma=0.1, kernel=rbf;, score=0.841 total time=   1.3s\n",
      "[CV 2/5] END .......C=10, gamma=0.1, kernel=rbf;, score=0.869 total time=   1.3s\n",
      "[CV 3/5] END .......C=10, gamma=0.1, kernel=rbf;, score=0.868 total time=   1.3s\n",
      "[CV 4/5] END .......C=10, gamma=0.1, kernel=rbf;, score=0.862 total time=   1.3s\n",
      "[CV 5/5] END .......C=10, gamma=0.1, kernel=rbf;, score=0.851 total time=   1.3s\n",
      "[CV 1/5] END ......C=10, gamma=0.01, kernel=rbf;, score=0.811 total time=   1.4s\n",
      "[CV 2/5] END ......C=10, gamma=0.01, kernel=rbf;, score=0.838 total time=   1.4s\n",
      "[CV 3/5] END ......C=10, gamma=0.01, kernel=rbf;, score=0.841 total time=   1.4s\n",
      "[CV 4/5] END ......C=10, gamma=0.01, kernel=rbf;, score=0.834 total time=   1.4s\n",
      "[CV 5/5] END ......C=10, gamma=0.01, kernel=rbf;, score=0.824 total time=   1.5s\n",
      "[CV 1/5] END .....C=10, gamma=0.001, kernel=rbf;, score=0.810 total time=   1.6s\n",
      "[CV 2/5] END .....C=10, gamma=0.001, kernel=rbf;, score=0.838 total time=   1.7s\n",
      "[CV 3/5] END .....C=10, gamma=0.001, kernel=rbf;, score=0.837 total time=   1.6s\n",
      "[CV 4/5] END .....C=10, gamma=0.001, kernel=rbf;, score=0.831 total time=   1.6s\n",
      "[CV 5/5] END .....C=10, gamma=0.001, kernel=rbf;, score=0.824 total time=   1.6s\n",
      "[CV 1/5] END ....C=10, gamma=0.0001, kernel=rbf;, score=0.802 total time=   2.0s\n",
      "[CV 2/5] END ....C=10, gamma=0.0001, kernel=rbf;, score=0.828 total time=   2.0s\n",
      "[CV 3/5] END ....C=10, gamma=0.0001, kernel=rbf;, score=0.833 total time=   2.2s\n",
      "[CV 4/5] END ....C=10, gamma=0.0001, kernel=rbf;, score=0.826 total time=   1.9s\n",
      "[CV 5/5] END ....C=10, gamma=0.0001, kernel=rbf;, score=0.818 total time=   1.8s\n",
      "[CV 1/5] END ........C=100, gamma=1, kernel=rbf;, score=0.851 total time=   1.8s\n",
      "[CV 2/5] END ........C=100, gamma=1, kernel=rbf;, score=0.876 total time=   1.9s\n",
      "[CV 3/5] END ........C=100, gamma=1, kernel=rbf;, score=0.868 total time=   1.8s\n",
      "[CV 4/5] END ........C=100, gamma=1, kernel=rbf;, score=0.868 total time=   1.8s\n",
      "[CV 5/5] END ........C=100, gamma=1, kernel=rbf;, score=0.860 total time=   1.8s\n",
      "[CV 1/5] END ......C=100, gamma=0.1, kernel=rbf;, score=0.848 total time=   1.2s\n",
      "[CV 2/5] END ......C=100, gamma=0.1, kernel=rbf;, score=0.873 total time=   1.3s\n",
      "[CV 3/5] END ......C=100, gamma=0.1, kernel=rbf;, score=0.861 total time=   1.3s\n",
      "[CV 4/5] END ......C=100, gamma=0.1, kernel=rbf;, score=0.866 total time=   1.3s\n",
      "[CV 5/5] END ......C=100, gamma=0.1, kernel=rbf;, score=0.854 total time=   1.3s\n",
      "[CV 1/5] END .....C=100, gamma=0.01, kernel=rbf;, score=0.819 total time=   1.4s\n",
      "[CV 2/5] END .....C=100, gamma=0.01, kernel=rbf;, score=0.843 total time=   1.4s\n",
      "[CV 3/5] END .....C=100, gamma=0.01, kernel=rbf;, score=0.851 total time=   1.4s\n",
      "[CV 4/5] END .....C=100, gamma=0.01, kernel=rbf;, score=0.841 total time=   1.4s\n",
      "[CV 5/5] END .....C=100, gamma=0.01, kernel=rbf;, score=0.829 total time=   1.4s\n",
      "[CV 1/5] END ....C=100, gamma=0.001, kernel=rbf;, score=0.811 total time=   2.0s\n",
      "[CV 2/5] END ....C=100, gamma=0.001, kernel=rbf;, score=0.839 total time=   1.4s\n",
      "[CV 3/5] END ....C=100, gamma=0.001, kernel=rbf;, score=0.841 total time=   1.4s\n",
      "[CV 4/5] END ....C=100, gamma=0.001, kernel=rbf;, score=0.834 total time=   1.5s\n",
      "[CV 5/5] END ....C=100, gamma=0.001, kernel=rbf;, score=0.824 total time=   1.4s\n",
      "[CV 1/5] END ...C=100, gamma=0.0001, kernel=rbf;, score=0.810 total time=   1.6s\n",
      "[CV 2/5] END ...C=100, gamma=0.0001, kernel=rbf;, score=0.839 total time=   1.6s\n",
      "[CV 3/5] END ...C=100, gamma=0.0001, kernel=rbf;, score=0.837 total time=   1.6s\n",
      "[CV 4/5] END ...C=100, gamma=0.0001, kernel=rbf;, score=0.832 total time=   1.7s\n",
      "[CV 5/5] END ...C=100, gamma=0.0001, kernel=rbf;, score=0.824 total time=   1.6s\n",
      "[CV 1/5] END .......C=1000, gamma=1, kernel=rbf;, score=0.853 total time=   4.7s\n"
     ]
    },
    {
     "name": "stdout",
     "output_type": "stream",
     "text": [
      "[CV 2/5] END .......C=1000, gamma=1, kernel=rbf;, score=0.874 total time=   5.2s\n",
      "[CV 3/5] END .......C=1000, gamma=1, kernel=rbf;, score=0.869 total time=   5.1s\n",
      "[CV 4/5] END .......C=1000, gamma=1, kernel=rbf;, score=0.868 total time=   4.8s\n",
      "[CV 5/5] END .......C=1000, gamma=1, kernel=rbf;, score=0.859 total time=   5.0s\n",
      "[CV 1/5] END .....C=1000, gamma=0.1, kernel=rbf;, score=0.847 total time=   1.7s\n",
      "[CV 2/5] END .....C=1000, gamma=0.1, kernel=rbf;, score=0.875 total time=   1.7s\n",
      "[CV 3/5] END .....C=1000, gamma=0.1, kernel=rbf;, score=0.864 total time=   1.7s\n",
      "[CV 4/5] END .....C=1000, gamma=0.1, kernel=rbf;, score=0.864 total time=   1.6s\n",
      "[CV 5/5] END .....C=1000, gamma=0.1, kernel=rbf;, score=0.856 total time=   1.6s\n",
      "[CV 1/5] END ....C=1000, gamma=0.01, kernel=rbf;, score=0.834 total time=   1.5s\n",
      "[CV 2/5] END ....C=1000, gamma=0.01, kernel=rbf;, score=0.861 total time=   1.5s\n",
      "[CV 3/5] END ....C=1000, gamma=0.01, kernel=rbf;, score=0.868 total time=   1.5s\n",
      "[CV 4/5] END ....C=1000, gamma=0.01, kernel=rbf;, score=0.847 total time=   1.5s\n",
      "[CV 5/5] END ....C=1000, gamma=0.01, kernel=rbf;, score=0.839 total time=   1.5s\n",
      "[CV 1/5] END ...C=1000, gamma=0.001, kernel=rbf;, score=0.811 total time=   1.4s\n",
      "[CV 2/5] END ...C=1000, gamma=0.001, kernel=rbf;, score=0.838 total time=   1.5s\n",
      "[CV 3/5] END ...C=1000, gamma=0.001, kernel=rbf;, score=0.841 total time=   1.5s\n",
      "[CV 4/5] END ...C=1000, gamma=0.001, kernel=rbf;, score=0.834 total time=   1.5s\n",
      "[CV 5/5] END ...C=1000, gamma=0.001, kernel=rbf;, score=0.824 total time=   1.4s\n",
      "[CV 1/5] END ..C=1000, gamma=0.0001, kernel=rbf;, score=0.811 total time=   1.4s\n",
      "[CV 2/5] END ..C=1000, gamma=0.0001, kernel=rbf;, score=0.839 total time=   1.4s\n",
      "[CV 3/5] END ..C=1000, gamma=0.0001, kernel=rbf;, score=0.840 total time=   1.4s\n",
      "[CV 4/5] END ..C=1000, gamma=0.0001, kernel=rbf;, score=0.833 total time=   1.4s\n",
      "[CV 5/5] END ..C=1000, gamma=0.0001, kernel=rbf;, score=0.825 total time=   1.4s\n",
      "{'C': 100, 'gamma': 1, 'kernel': 'rbf'}\n",
      "SVC(C=100, gamma=1)\n"
     ]
    }
   ],
   "source": [
    "#Use GridsearchCV\n",
    "\n",
    "#To find the best hyperparameters for a SVM\n",
    "from sklearn.model_selection import GridSearchCV\n",
    "  \n",
    "# defining parameter range, he higher the number, the more verbose \n",
    "param_grid = {'C': [0.1, 1, 10, 100, 1000], \n",
    "              'gamma': [1, 0.1, 0.01, 0.001, 0.0001],\n",
    "              'kernel': ['rbf']} \n",
    "  \n",
    "grid = GridSearchCV(SVC(), param_grid, refit = True, verbose = 3)\n",
    "  \n",
    "# fitting the model for grid search\n",
    "grid.fit(X_train, y_train)\n",
    "\n",
    "# print best parameter after tuning\n",
    "print(grid.best_params_)\n",
    "\n",
    "# print how our model looks after hyper-parameter tuning\n",
    "print(grid.best_estimator_)\n",
    "\n"
   ]
  },
  {
   "cell_type": "markdown",
   "id": "97b13431",
   "metadata": {},
   "source": [
    "It shows, SVC with C=100 and gamma 1 has the highest accurate rate of 87%. However, this is still low. "
   ]
  },
  {
   "cell_type": "code",
   "execution_count": null,
   "id": "fad911b9",
   "metadata": {},
   "outputs": [],
   "source": [
    "#Step 6 : test predict for both clasifiers \n",
    "\n",
    "y_pred_tree = tree.predict(X_test)\n",
    "y_pred_svm = svm.predict(X_test)"
   ]
  },
  {
   "cell_type": "code",
   "execution_count": 53,
   "id": "6ff43f4c",
   "metadata": {},
   "outputs": [],
   "source": [
    "#Accuracy \n",
    " \n",
    "from sklearn.metrics import accuracy_score\n",
    "\n",
    "# Compute accuracy for the decision tree classifier\n",
    "\n",
    "accuracy_tree = accuracy_score(y_test, y_pred_tree)\n",
    "\n",
    "# Compute accuracy for the SVM classifier\n",
    "\n",
    "accuracy_svm = accuracy_score(y_test, y_pred_svm)"
   ]
  },
  {
   "cell_type": "code",
   "execution_count": 54,
   "id": "d6d30d5f",
   "metadata": {},
   "outputs": [],
   "source": [
    "from sklearn.metrics import mean_squared_error\n",
    "\n",
    "# Compute mean squared error for the decision tree classifier\n",
    "mse_tree = mean_squared_error(y_test, y_pred_tree)\n",
    "\n",
    "# Compute mean squared error for the SVM classifier\n",
    "mse_svm = mean_squared_error(y_test, y_pred_svm)\n"
   ]
  },
  {
   "cell_type": "code",
   "execution_count": 55,
   "id": "80beb678",
   "metadata": {},
   "outputs": [],
   "source": [
    "from sklearn.metrics import precision_score\n",
    "\n",
    "# Compute precision for the decision tree classifier\n",
    "precision_tree = precision_score(y_test, y_pred_tree)\n",
    "\n",
    "# Compute precision for the SVM classifier\n",
    "precision_svm = precision_score(y_test, y_pred_svm)"
   ]
  },
  {
   "cell_type": "code",
   "execution_count": 56,
   "id": "fdfcee04",
   "metadata": {},
   "outputs": [],
   "source": [
    "from sklearn.metrics import recall_score\n",
    "\n",
    "# Compute recall for the decision tree classifier\n",
    "recall_tree = recall_score(y_test, y_pred_tree)\n",
    "\n",
    "# Compute recall for the SVM classifier\n",
    "recall_svm = recall_score(y_test, y_pred_svm)"
   ]
  },
  {
   "cell_type": "code",
   "execution_count": 69,
   "id": "15408eae",
   "metadata": {
    "scrolled": true
   },
   "outputs": [
    {
     "data": {
      "image/png": "[encoded data removed]",
      "text/plain": [
       "<Figure size 720x360 with 1 Axes>"
      ]
     },
     "metadata": {
      "needs_background": "light"
     },
     "output_type": "display_data"
    },
    {
     "name": "stdout",
     "output_type": "stream",
     "text": [
      "Decision Tree:\n",
      "Mean Square Error: 0.1855\n",
      "Accuracy: 0.8145\n",
      "Precision: 0.8092369477911646\n",
      "Recall: 0.8166160081053698\n",
      "\n",
      "SVM:\n",
      "Mean Square Error: 0.126\n",
      "Accuracy: 0.874\n",
      "Precision: 0.8678678678678678\n",
      "Recall: 0.878419452887538\n"
     ]
    }
   ],
   "source": [
    "# Calculate Receiver Operating Characteristic (ROC) curve and Area Under the Curve (AUC)\n",
    "fpr_tree, tpr_tree, thresholds_tree = roc_curve(y_test, y_pred_tree)\n",
    "roc_auc_tree = auc(fpr_tree, tpr_tree)\n",
    "\n",
    "fpr_svm, tpr_svm, thresholds_svm = roc_curve(y_test, y_pred_svm)\n",
    "roc_auc_svm = auc(fpr_svm, tpr_svm)\n",
    "\n",
    "# Plot ROC curves\n",
    " \n",
    "from matplotlib import pyplot as plt\n",
    "plt.figure(figsize=(10, 5))\n",
    "plt.plot(fpr_tree, tpr_tree, label='Decision Tree (AUC = {:.2f})'.format(roc_auc_tree))\n",
    "plt.plot(fpr_svm, tpr_svm, label='SVM (AUC = {:.2f})'.format(roc_auc_svm))\n",
    "plt.plot([0, 1], [0, 1], 'k--')\n",
    "plt.xlim([0.0, 1.0])\n",
    "plt.ylim([0.0, 1.05])\n",
    "plt.xlabel('False Positive Rate')\n",
    "plt.ylabel('True Positive Rate')\n",
    "plt.title('Receiver Operating Characteristic (ROC) Curves')\n",
    "plt.legend(loc='lower right')\n",
    "plt.show()\n",
    "\n",
    "# Display results\n",
    "print(\"Decision Tree:\")\n",
    "print(\"Mean Square Error:\", mse_tree)\n",
    "print(\"Accuracy:\", accuracy_tree)\n",
    "print(\"Precision:\", precision_tree)\n",
    "print(\"Recall:\", recall_tree)\n",
    "print(\"\\nSVM:\")\n",
    "print(\"Mean Square Error:\", mse_svm)\n",
    "print(\"Accuracy:\", accuracy_svm)\n",
    "print(\"Precision:\", precision_svm)\n",
    "print(\"Recall:\", recall_svm)"
   ]
  },
  {
   "cell_type": "code",
   "execution_count": null,
   "id": "98d09eb0",
   "metadata": {},
   "outputs": [],
   "source": []
  },
  {
   "cell_type": "code",
   "execution_count": null,
   "id": "1666aa0d",
   "metadata": {},
   "outputs": [],
   "source": []
  }
 ],
 "metadata": {
  "kernelspec": {
   "display_name": "Python 3",
   "language": "python",
   "name": "python3"
  },
  "language_info": {
   "codemirror_mode": {
    "name": "ipython",
    "version": 3
   },
   "file_extension": ".py",
   "mimetype": "text/x-python",
   "name": "python",
   "nbconvert_exporter": "python",
   "pygments_lexer": "ipython3",
   "version": "3.8.2"
  }
 },
 "nbformat": 4,
 "nbformat_minor": 5
}
