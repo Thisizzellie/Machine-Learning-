{
 "cells": [
  {
   "cell_type": "code",
   "execution_count": null,
   "id": "d4c7ba52",
   "metadata": {},
   "outputs": [],
   "source": [
    "Image classification of Chest X Rays in one of 2 classes: Normal, COVID-19\n",
    "\n"
   ]
  },
  {
   "cell_type": "code",
   "execution_count": null,
   "id": "723a0f43",
   "metadata": {},
   "outputs": [],
   "source": [
    "pip install tensorflow"
   ]
  },
  {
   "cell_type": "code",
   "execution_count": null,
   "id": "e50333d5",
   "metadata": {},
   "outputs": [],
   "source": []
  },
  {
   "cell_type": "code",
   "execution_count": null,
   "id": "6cef3b8f",
   "metadata": {},
   "outputs": [],
   "source": [
    "!pip install opendatasets"
   ]
  },
  {
   "cell_type": "code",
   "execution_count": 2,
   "id": "51a2ee4b",
   "metadata": {},
   "outputs": [],
   "source": [
    "import opendatasets as od"
   ]
  },
  {
   "cell_type": "code",
   "execution_count": 3,
   "id": "9a9af03f",
   "metadata": {},
   "outputs": [
    {
     "name": "stdout",
     "output_type": "stream",
     "text": [
      "Skipping, found downloaded files in \"./covid19-radiography-dataset\" (use force=True to force download)\n"
     ]
    }
   ],
   "source": [
    "od.download(\"https://www.kaggle.com/datasets/preetviradiya/covid19-radiography-dataset\")"
   ]
  },
  {
   "cell_type": "code",
   "execution_count": 16,
   "id": "ef807743",
   "metadata": {},
   "outputs": [
    {
     "name": "stdout",
     "output_type": "stream",
     "text": [
      "unzip:  cannot find or open Covid19_radiography_dataset, Covid19_radiography_dataset.zip or Covid19_radiography_dataset.ZIP.\r\n"
     ]
    }
   ],
   "source": [
    "! unzip Covid19_radiography_dataset"
   ]
  },
  {
   "cell_type": "code",
   "execution_count": null,
   "id": "6820e6fd",
   "metadata": {},
   "outputs": [],
   "source": [
    "import tensorflow as tf\n",
    "from tensorflow import keras\n",
    "from tensorflow.keras import backend as K\n",
    "from tensorflow.keras.layers import Dense, Activation,Dropout,Conv2D, MaxPooling2D,BatchNormalization, Flatten\n",
    "from tensorflow.keras.optimizers import Adam, Adamax\n",
    "from tensorflow.keras.metrics import categorical_crossentropy\n",
    "from tensorflow.keras import regularizers\n",
    "from tensorflow.keras.preprocessing.image import ImageDataGenerator\n",
    "from tensorflow.keras.models import Model, load_model, Sequential\n",
    "import numpy as np\n",
    "import pandas as pd\n",
    "import shutil\n",
    "import time\n",
    "import cv2 as cv2\n",
    "from tqdm import tqdm\n",
    "from sklearn.model_selection import train_test_split\n",
    "import matplotlib.pyplot as plt\n",
    "from matplotlib.pyplot import imshow\n",
    "import os\n",
    "import seaborn as sns\n",
    "sns.set_style('darkgrid')\n",
    "from PIL import Image\n",
    "from sklearn.metrics import confusion_matrix, classification_report\n",
    "from IPython.core.display import display, HTML\n"
   ]
  },
  {
   "cell_type": "code",
   "execution_count": null,
   "id": "389273bc",
   "metadata": {},
   "outputs": [],
   "source": [
    "#finding directory \n",
    "import os\n",
    "\n",
    "os.path.abspath(\"covid19-radiography-dataset\")\n"
   ]
  },
  {
   "cell_type": "code",
   "execution_count": null,
   "id": "18b403ad",
   "metadata": {},
   "outputs": [],
   "source": [
    "#changing directory "
   ]
  },
  {
   "cell_type": "code",
   "execution_count": null,
   "id": "26e13e94",
   "metadata": {},
   "outputs": [],
   "source": [
    "os.chdir('//Users//ellie//covid19-radiography-dataset//covid19-radiography-dataset')\n",
    "\n"
   ]
  },
  {
   "cell_type": "code",
   "execution_count": 20,
   "id": "16494852",
   "metadata": {},
   "outputs": [
    {
     "name": "stdout",
     "output_type": "stream",
     "text": [
      "Number of files in the directory: 3616\n"
     ]
    }
   ],
   "source": [
    "import os\n",
    "\n",
    "directory_path = 'covid19-radiography-dataset/covid19-radiography-dataset/COVID-19_Radiography_Dataset/COVID-19_Radiography_Dataset/COVID'\n",
    "\n",
    "file_count = len(os.listdir(directory_path))\n",
    "print(f\"Number of files in the directory: {file_count}\")\n"
   ]
  },
  {
   "cell_type": "code",
   "execution_count": 21,
   "id": "c8b19cc5",
   "metadata": {},
   "outputs": [
    {
     "name": "stdout",
     "output_type": "stream",
     "text": [
      "Number of files in the directory: 10192\n"
     ]
    }
   ],
   "source": [
    "import os\n",
    "\n",
    "directory_path = 'covid19-radiography-dataset/covid19-radiography-dataset/COVID-19_Radiography_Dataset/COVID-19_Radiography_Dataset/Normal'\n",
    "\n",
    "file_count = len(os.listdir(directory_path))\n",
    "print(f\"Number of files in the directory: {file_count}\")"
   ]
  },
  {
   "cell_type": "code",
   "execution_count": 5,
   "id": "aade98be",
   "metadata": {},
   "outputs": [
    {
     "name": "stdout",
     "output_type": "stream",
     "text": [
      "Collecting opencv-python\n",
      "  Downloading opencv_python-4.7.0.72-cp37-abi3-macosx_10_16_x86_64.whl (53.9 MB)\n",
      "\u001b[K     |████████████████████████████████| 53.9 MB 9.2 MB/s eta 0:00:012    |██████████████▉                 | 24.9 MB 9.7 MB/s eta 0:00:03     |█████████████████████▌          | 36.2 MB 12.9 MB/s eta 0:00:02\n",
      "\u001b[?25hRequirement already satisfied: numpy>=1.17.3 in ./opt/anaconda3/lib/python3.8/site-packages (from opencv-python) (1.23.5)\n",
      "Installing collected packages: opencv-python\n",
      "Successfully installed opencv-python-4.7.0.72\n",
      "Note: you may need to restart the kernel to use updated packages.\n"
     ]
    }
   ],
   "source": [
    "pip install opencv-python"
   ]
  },
  {
   "cell_type": "code",
   "execution_count": 6,
   "id": "0a6c211d",
   "metadata": {},
   "outputs": [
    {
     "name": "stdout",
     "output_type": "stream",
     "text": [
      "Image loaded successfully!\n"
     ]
    }
   ],
   "source": [
    "import cv2\n",
    "\n",
    "img_path = 'covid19-radiography-dataset/covid19-radiography-dataset/COVID-19_Radiography_Dataset/COVID-19_Radiography_Dataset/Normal/Normal-1.png'\n",
    "img = cv2.imread(img_path)\n",
    "\n",
    "if img is not None:\n",
    "    # Image was successfully loaded\n",
    "    # You can perform operations on the image here\n",
    "    # For example, you can display the image using cv2.imshow() or save it using cv2.imwrite()\n",
    "    print(\"Image loaded successfully!\")\n",
    "else:\n",
    "    print(\"Error: Failed to load the image.\")"
   ]
  },
  {
   "cell_type": "code",
   "execution_count": 7,
   "id": "6ae6aab1",
   "metadata": {},
   "outputs": [],
   "source": [
    "import matplotlib.pyplot as plt"
   ]
  },
  {
   "cell_type": "code",
   "execution_count": 9,
   "id": "44e41f8d",
   "metadata": {},
   "outputs": [
    {
     "data": {
      "text/plain": [
       "<matplotlib.image.AxesImage at 0x7fc85a64f070>"
      ]
     },
     "execution_count": 9,
     "metadata": {},
     "output_type": "execute_result"
    },
    {
     "data": {
      "image/png": "[encoded data removed]",
      "text/plain": [
       "<Figure size 432x288 with 1 Axes>"
      ]
     },
     "metadata": {
      "needs_background": "light"
     },
     "output_type": "display_data"
    }
   ],
   "source": [
    "plt.imshow(img)"
   ]
  },
  {
   "cell_type": "code",
   "execution_count": 10,
   "id": "25d76c81",
   "metadata": {},
   "outputs": [
    {
     "data": {
      "text/plain": [
       "(299, 299, 3)"
      ]
     },
     "execution_count": 10,
     "metadata": {},
     "output_type": "execute_result"
    }
   ],
   "source": [
    "img.shape\n"
   ]
  },
  {
   "cell_type": "code",
   "execution_count": 11,
   "id": "81ebe404",
   "metadata": {},
   "outputs": [],
   "source": [
    "import pandas as pd\n",
    "import numpy as np\n"
   ]
  },
  {
   "cell_type": "code",
   "execution_count": 14,
   "id": "faf8871d",
   "metadata": {},
   "outputs": [
    {
     "name": "stdout",
     "output_type": "stream",
     "text": [
      "Number of rows: 21165\n",
      "Number of columns: 6\n"
     ]
    }
   ],
   "source": [
    "import pandas as pd\n",
    "\n",
    "file_path = 'covid19-radiography-dataset/covid19-radiography-dataset/metadata.csv'\n",
    "df = pd.read_csv(file_path)\n",
    "\n",
    "# Perform operations on the DataFrame here\n",
    "# You can access the data using df['column_name'] or perform data analysis/manipulation\n",
    "\n",
    "# Example: Print the number of rows and columns in the DataFrame\n",
    "num_rows, num_cols = df.shape\n",
    "print(f\"Number of rows: {num_rows}\")\n",
    "print(f\"Number of columns: {num_cols}\")"
   ]
  },
  {
   "cell_type": "code",
   "execution_count": 15,
   "id": "56421009",
   "metadata": {},
   "outputs": [
    {
     "data": {
      "text/html": [
       "<div>\n",
       "<style scoped>\n",
       "    .dataframe tbody tr th:only-of-type {\n",
       "        vertical-align: middle;\n",
       "    }\n",
       "\n",
       "    .dataframe tbody tr th {\n",
       "        vertical-align: top;\n",
       "    }\n",
       "\n",
       "    .dataframe thead th {\n",
       "        text-align: right;\n",
       "    }\n",
       "</style>\n",
       "<table border=\"1\" class=\"dataframe\">\n",
       "  <thead>\n",
       "    <tr style=\"text-align: right;\">\n",
       "      <th></th>\n",
       "      <th>Unnamed: 0</th>\n",
       "      <th>file_name</th>\n",
       "      <th>image_data_grayscale</th>\n",
       "      <th>file_format</th>\n",
       "      <th>image_shape</th>\n",
       "      <th>label</th>\n",
       "    </tr>\n",
       "  </thead>\n",
       "  <tbody>\n",
       "    <tr>\n",
       "      <th>0</th>\n",
       "      <td>0</td>\n",
       "      <td>COVID-1.png</td>\n",
       "      <td>[[185  40   0 ...   0  24 131]\\n [ 75  14   0 ...</td>\n",
       "      <td>PNG</td>\n",
       "      <td>(299, 299)</td>\n",
       "      <td>COVID</td>\n",
       "    </tr>\n",
       "    <tr>\n",
       "      <th>1</th>\n",
       "      <td>1</td>\n",
       "      <td>COVID-10.png</td>\n",
       "      <td>[[135 133 131 ...  24  21  19]\\n [132 130 129 ...</td>\n",
       "      <td>PNG</td>\n",
       "      <td>(299, 299)</td>\n",
       "      <td>COVID</td>\n",
       "    </tr>\n",
       "    <tr>\n",
       "      <th>2</th>\n",
       "      <td>2</td>\n",
       "      <td>COVID-100.png</td>\n",
       "      <td>[[ 62  10   0 ... 197 200 209]\\n [ 35   6   0 ...</td>\n",
       "      <td>PNG</td>\n",
       "      <td>(299, 299)</td>\n",
       "      <td>COVID</td>\n",
       "    </tr>\n",
       "    <tr>\n",
       "      <th>3</th>\n",
       "      <td>3</td>\n",
       "      <td>COVID-1000.png</td>\n",
       "      <td>[[162 162 162 ...   4   4   5]\\n [ 26  26  26 ...</td>\n",
       "      <td>PNG</td>\n",
       "      <td>(299, 299)</td>\n",
       "      <td>COVID</td>\n",
       "    </tr>\n",
       "    <tr>\n",
       "      <th>4</th>\n",
       "      <td>4</td>\n",
       "      <td>COVID-1001.png</td>\n",
       "      <td>[[  0   0   0 ...   0   0   0]\\n [  0   0   0 ...</td>\n",
       "      <td>PNG</td>\n",
       "      <td>(299, 299)</td>\n",
       "      <td>COVID</td>\n",
       "    </tr>\n",
       "  </tbody>\n",
       "</table>\n",
       "</div>"
      ],
      "text/plain": [
       "   Unnamed: 0       file_name  \\\n",
       "0           0     COVID-1.png   \n",
       "1           1    COVID-10.png   \n",
       "2           2   COVID-100.png   \n",
       "3           3  COVID-1000.png   \n",
       "4           4  COVID-1001.png   \n",
       "\n",
       "                                image_data_grayscale file_format image_shape  \\\n",
       "0  [[185  40   0 ...   0  24 131]\\n [ 75  14   0 ...         PNG  (299, 299)   \n",
       "1  [[135 133 131 ...  24  21  19]\\n [132 130 129 ...         PNG  (299, 299)   \n",
       "2  [[ 62  10   0 ... 197 200 209]\\n [ 35   6   0 ...         PNG  (299, 299)   \n",
       "3  [[162 162 162 ...   4   4   5]\\n [ 26  26  26 ...         PNG  (299, 299)   \n",
       "4  [[  0   0   0 ...   0   0   0]\\n [  0   0   0 ...         PNG  (299, 299)   \n",
       "\n",
       "   label  \n",
       "0  COVID  \n",
       "1  COVID  \n",
       "2  COVID  \n",
       "3  COVID  \n",
       "4  COVID  "
      ]
     },
     "execution_count": 15,
     "metadata": {},
     "output_type": "execute_result"
    }
   ],
   "source": [
    "df.head()\n"
   ]
  },
  {
   "cell_type": "code",
   "execution_count": 19,
   "id": "c9e4a94e",
   "metadata": {},
   "outputs": [
    {
     "name": "stdout",
     "output_type": "stream",
     "text": [
      "['COVID-1.png', 'COVID-1175.png', 'COVID-1613.png', 'COVID-948.png', 'COVID-790.png', 'COVID-3004.png', 'COVID-3010.png', 'COVID-1607.png', 'COVID-784.png', 'COVID-1161.png', 'COVID-2468.png', 'COVID-1149.png', 'COVID-2440.png', 'COVID-3038.png', 'COVID-2326.png', 'COVID-974.png', 'COVID-960.png', 'COVID-2332.png', 'COVID-2454.png', 'COVID-753.png', 'COVID-1808.png', 'COVID-747.png', 'COVID-2483.png', 'COVID-1834.png', 'COVID-1820.png', 'COVID-2497.png', 'COVID-2118.png', 'COVID-3206.png', 'COVID-592.png', 'COVID-1411.png', 'COVID-1377.png', 'COVID-3560.png', 'COVID-3574.png', 'COVID-1363.png', 'COVID-586.png', 'COVID-1405.png', 'COVID-3212.png', 'COVID-2124.png', 'COVID-2642.png', 'COVID-3548.png', 'COVID-2656.png', 'COVID-2130.png', 'COVID-1439.png', 'COVID-551.png', 'COVID-2865.png', 'COVID-237.png', 'COVID-223.png', 'COVID-2871.png', 'COVID-545.png', 'COVID-22.png', 'COVID-1388.png', 'COVID-2681.png', 'COVID-2859.png', 'COVID-2695.png', 'COVID-579.png', 'COVID-36.png', 'COVID-3372.png', 'COVID-1565.png', 'COVID-380.png', 'COVID-1203.png', 'COVID-3414.png', 'COVID-3400.png', 'COVID-394.png', 'COVID-1217.png', 'COVID-1571.png', 'COVID-3366.png', 'COVID-2078.png', 'COVID-1559.png', 'COVID-2050.png', 'COVID-2736.png', 'COVID-3428.png', 'COVID-2722.png', 'COVID-2044.png', 'COVID-425.png', 'COVID-2911.png', 'COVID-343.png', 'COVID-357.png', 'COVID-2905.png', 'COVID-431.png', 'COVID-2093.png', 'COVID-419.png', 'COVID-2939.png', 'COVID-2087.png', 'COVID-3399.png', 'COVID-3616.png', 'COVID-2508.png', 'COVID-1001.png', 'COVID-182.png', 'COVID-1767.png', 'COVID-3170.png', 'COVID-3164.png', 'COVID-1773.png', 'COVID-828.png', 'COVID-1015.png', 'COVID-196.png', 'COVID-3602.png', 'COVID-2534.png', 'COVID-2252.png', 'COVID-1983.png', 'COVID-800.png', 'COVID-1997.png', 'COVID-814.png', 'COVID-2246.png', 'COVID-3158.png', 'COVID-2520.png', 'COVID-1029.png', 'COVID-141.png', 'COVID-627.png', 'COVID-633.png', 'COVID-1968.png', 'COVID-155.png', 'COVID-1798.png', 'COVID-1940.png', 'COVID-2291.png', 'COVID-2285.png', 'COVID-1954.png', 'COVID-169.png', 'COVID-1955.png', 'COVID-2284.png', 'COVID-168.png', 'COVID-2290.png', 'COVID-1941.png', 'COVID-1799.png', 'COVID-1969.png', 'COVID-632.png', 'COVID-154.png', 'COVID-140.png', 'COVID-626.png', 'COVID-3159.png', 'COVID-2247.png', 'COVID-815.png', 'COVID-1996.png', 'COVID-1028.png', 'COVID-2521.png', 'COVID-2535.png', 'COVID-801.png', 'COVID-1982.png', 'COVID-2253.png', 'COVID-829.png', 'COVID-1772.png', 'COVID-3165.png', 'COVID-3603.png', 'COVID-197.png', 'COVID-1014.png', 'COVID-183.png', 'COVID-1000.png', 'COVID-2509.png', 'COVID-3171.png', 'COVID-1766.png', 'COVID-2938.png', 'COVID-3398.png', 'COVID-2086.png', 'COVID-418.png', 'COVID-2092.png', 'COVID-2904.png', 'COVID-356.png', 'COVID-430.png', 'COVID-424.png', 'COVID-342.png', 'COVID-2910.png', 'COVID-2723.png', 'COVID-2045.png', 'COVID-2051.png', 'COVID-1558.png', 'COVID-3429.png', 'COVID-2737.png', 'COVID-1216.png', 'COVID-395.png', 'COVID-3401.png', 'COVID-2079.png', 'COVID-3367.png', 'COVID-1570.png', 'COVID-1564.png', 'COVID-3373.png', 'COVID-3415.png', 'COVID-1202.png', 'COVID-381.png', 'COVID-2694.png', 'COVID-37.png', 'COVID-578.png', 'COVID-23.png', 'COVID-2858.png', 'COVID-2680.png', 'COVID-1389.png', 'COVID-2870.png', 'COVID-222.png', 'COVID-544.png', 'COVID-550.png', 'COVID-236.png', 'COVID-2864.png', 'COVID-2657.png', 'COVID-3549.png', 'COVID-1438.png', 'COVID-2131.png', 'COVID-2125.png', 'COVID-2643.png', 'COVID-1362.png', 'COVID-3575.png', 'COVID-3213.png', 'COVID-1404.png', 'COVID-587.png', 'COVID-1410.png', 'COVID-593.png', 'COVID-3207.png', 'COVID-2119.png', 'COVID-3561.png', 'COVID-1376.png', 'COVID-1821.png', 'COVID-2496.png', 'COVID-2482.png', 'COVID-1835.png', 'COVID-746.png', 'COVID-1809.png', 'COVID-752.png', 'COVID-2333.png', 'COVID-961.png', 'COVID-2455.png', 'COVID-2441.png', 'COVID-1148.png', 'COVID-975.png', 'COVID-2327.png', 'COVID-3039.png', 'COVID-785.png', 'COVID-1606.png', 'COVID-3011.png', 'COVID-2469.png', 'COVID-1160.png', 'COVID-1174.png', 'COVID-3005.png', 'COVID-791.png', 'COVID-949.png', 'COVID-1612.png', 'COVID-1162.png', 'COVID-3013.png', 'COVID-1604.png', 'COVID-787.png', 'COVID-1610.png', 'COVID-793.png', 'COVID-3007.png', 'COVID-2319.png', 'COVID-2.png', 'COVID-1176.png', 'COVID-2457.png', 'COVID-963.png', 'COVID-1638.png', 'COVID-2331.png', 'COVID-2325.png', 'COVID-977.png', 'COVID-2443.png', 'COVID-744.png', 'COVID-750.png', 'COVID-988.png', 'COVID-2494.png', 'COVID-1823.png', 'COVID-778.png', 'COVID-1837.png', 'COVID-2480.png', 'COVID-1189.png', 'COVID-585.png', 'COVID-1406.png', 'COVID-3211.png', 'COVID-3577.png', 'COVID-2669.png', 'COVID-1360.png', 'COVID-1374.png', 'COVID-3563.png', 'COVID-3205.png', 'COVID-591.png', 'COVID-1412.png', 'COVID-2133.png', 'COVID-2655.png', 'COVID-2899.png', 'COVID-2641.png', 'COVID-1348.png', 'COVID-2127.png', 'COVID-3239.png', 'COVID-546.png', 'COVID-220.png', 'COVID-2872.png', 'COVID-2866.png', 'COVID-234.png', 'COVID-552.png', 'COVID-35.png', 'COVID-2696.png', 'COVID-3588.png', 'COVID-208.png', 'COVID-2682.png', 'COVID-21.png', 'COVID-1572.png', 'COVID-3365.png', 'COVID-3403.png', 'COVID-397.png', 'COVID-1214.png', 'COVID-383.png', 'COVID-1200.png', 'COVID-2709.png', 'COVID-3417.png', 'COVID-3371.png', 'COVID-1566.png', 'COVID-3359.png', 'COVID-2047.png', 'COVID-1228.png', 'COVID-2721.png', 'COVID-2735.png', 'COVID-2053.png', 'COVID-432.png', 'COVID-354.png', 'COVID-2906.png', 'COVID-2912.png', 'COVID-340.png', 'COVID-426.png', 'COVID-2084.png', 'COVID-368.png', 'COVID-2090.png', 'COVID-1599.png', 'COVID-1016.png', 'COVID-195.png', 'COVID-3601.png', 'COVID-2279.png', 'COVID-3167.png', 'COVID-1770.png', 'COVID-1764.png', 'COVID-3173.png', 'COVID-3615.png', 'COVID-1002.png', 'COVID-181.png', 'COVID-2523.png', 'COVID-1994.png', 'COVID-817.png', 'COVID-2245.png', 'COVID-2251.png', 'COVID-1980.png', 'COVID-803.png', 'COVID-1758.png', 'COVID-2537.png', 'COVID-156.png', 'COVID-630.png', 'COVID-624.png', 'COVID-142.png', 'COVID-3198.png', 'COVID-2286.png', 'COVID-1957.png', 'COVID-1943.png', 'COVID-618.png', 'COVID-2292.png', 'COVID-2293.png', 'COVID-619.png', 'COVID-1942.png', 'COVID-1956.png', 'COVID-2287.png', 'COVID-3199.png', 'COVID-625.png', 'COVID-143.png', 'COVID-157.png', 'COVID-631.png', 'COVID-1759.png', 'COVID-802.png', 'COVID-1981.png', 'COVID-2250.png', 'COVID-2536.png', 'COVID-2522.png', 'COVID-2244.png', 'COVID-816.png', 'COVID-1995.png', 'COVID-3172.png', 'COVID-1765.png', 'COVID-180.png', 'COVID-1003.png', 'COVID-3614.png', 'COVID-3600.png', 'COVID-194.png', 'COVID-1017.png', 'COVID-1771.png', 'COVID-3166.png', 'COVID-2278.png', 'COVID-1598.png', 'COVID-2091.png', 'COVID-2085.png', 'COVID-369.png', 'COVID-341.png', 'COVID-2913.png', 'COVID-427.png', 'COVID-433.png', 'COVID-2907.png', 'COVID-355.png', 'COVID-2734.png', 'COVID-2052.png', 'COVID-2046.png', 'COVID-3358.png', 'COVID-2720.png', 'COVID-1229.png', 'COVID-3416.png', 'COVID-2708.png', 'COVID-1201.png', 'COVID-382.png', 'COVID-1567.png', 'COVID-3370.png', 'COVID-3364.png', 'COVID-1573.png', 'COVID-1215.png', 'COVID-396.png', 'COVID-3402.png', 'COVID-2683.png', 'COVID-209.png', 'COVID-20.png', 'COVID-34.png', 'COVID-3589.png', 'COVID-2697.png', 'COVID-235.png', 'COVID-2867.png', 'COVID-553.png', 'COVID-547.png', 'COVID-2873.png', 'COVID-221.png', 'COVID-1349.png', 'COVID-2640.png', 'COVID-2898.png', 'COVID-3238.png', 'COVID-2126.png', 'COVID-2132.png', 'COVID-2654.png', 'COVID-3562.png', 'COVID-1375.png', 'COVID-1413.png', 'COVID-590.png', 'COVID-3204.png', 'COVID-3210.png', 'COVID-1407.png', 'COVID-584.png', 'COVID-1361.png', 'COVID-2668.png', 'COVID-3576.png', 'COVID-1836.png', 'COVID-1188.png', 'COVID-2481.png', 'COVID-2495.png', 'COVID-779.png', 'COVID-1822.png', 'COVID-989.png', 'COVID-751.png', 'COVID-745.png', 'COVID-976.png', 'COVID-2324.png', 'COVID-2442.png', 'COVID-2456.png', 'COVID-2330.png', 'COVID-1639.png', 'COVID-962.png', 'COVID-2318.png', 'COVID-3006.png', 'COVID-792.png', 'COVID-1611.png', 'COVID-1177.png', 'COVID-3.png', 'COVID-1163.png', 'COVID-786.png', 'COVID-1605.png', 'COVID-3012.png', 'COVID-966.png', 'COVID-2334.png', 'COVID-2452.png', 'COVID-2446.png', 'COVID-2320.png', 'COVID-1629.png', 'COVID-972.png', 'COVID-3016.png', 'COVID-2308.png', 'COVID-1601.png', 'COVID-782.png', 'COVID-1167.png', 'COVID-7.png', 'COVID-1173.png', 'COVID-1615.png', 'COVID-796.png', 'COVID-3002.png', 'COVID-1826.png', 'COVID-1198.png', 'COVID-2491.png', 'COVID-2485.png', 'COVID-769.png', 'COVID-1832.png', 'COVID-741.png', 'COVID-999.png', 'COVID-755.png', 'COVID-1359.png', 'COVID-2888.png', 'COVID-2650.png', 'COVID-2136.png', 'COVID-3228.png', 'COVID-2122.png', 'COVID-2644.png', 'COVID-3572.png', 'COVID-1365.png', 'COVID-580.png', 'COVID-1403.png', 'COVID-3214.png', 'COVID-3200.png', 'COVID-594.png', 'COVID-1417.png', 'COVID-1371.png', 'COVID-3566.png', 'COVID-2678.png', 'COVID-2693.png', 'COVID-219.png', 'COVID-30.png', 'COVID-24.png', 'COVID-2687.png', 'COVID-3599.png', 'COVID-225.png', 'COVID-2877.png', 'COVID-543.png', 'COVID-557.png', 'COVID-18.png', 'COVID-2863.png', 'COVID-231.png', 'COVID-2724.png', 'COVID-2042.png', 'COVID-3348.png', 'COVID-2056.png', 'COVID-2730.png', 'COVID-1239.png', 'COVID-2718.png', 'COVID-3406.png', 'COVID-392.png', 'COVID-1211.png', 'COVID-1577.png', 'COVID-3360.png', 'COVID-3374.png', 'COVID-1563.png', 'COVID-386.png', 'COVID-1205.png', 'COVID-3412.png', 'COVID-1588.png', 'COVID-2081.png', 'COVID-2095.png', 'COVID-379.png', 'COVID-351.png', 'COVID-2903.png', 'COVID-437.png', 'COVID-423.png', 'COVID-2917.png', 'COVID-345.png', 'COVID-1991.png', 'COVID-1749.png', 'COVID-812.png', 'COVID-2240.png', 'COVID-2526.png', 'COVID-2532.png', 'COVID-2254.png', 'COVID-1985.png', 'COVID-806.png', 'COVID-3162.png', 'COVID-1775.png', 'COVID-1013.png', 'COVID-190.png', 'COVID-3604.png', 'COVID-3610.png', 'COVID-1007.png', 'COVID-184.png', 'COVID-1761.png', 'COVID-2268.png', 'COVID-3176.png', 'COVID-2283.png', 'COVID-609.png', 'COVID-1952.png', 'COVID-1946.png', 'COVID-3189.png', 'COVID-2297.png', 'COVID-635.png', 'COVID-153.png', 'COVID-147.png', 'COVID-621.png', 'COVID-146.png', 'COVID-620.png', 'COVID-634.png', 'COVID-152.png', 'COVID-2296.png', 'COVID-3188.png', 'COVID-1947.png', 'COVID-1953.png', 'COVID-608.png', 'COVID-2282.png', 'COVID-185.png', 'COVID-1006.png', 'COVID-3611.png', 'COVID-3177.png', 'COVID-2269.png', 'COVID-1760.png', 'COVID-1774.png', 'COVID-3163.png', 'COVID-3605.png', 'COVID-191.png', 'COVID-1012.png', 'COVID-2533.png', 'COVID-807.png', 'COVID-1984.png', 'COVID-2255.png', 'COVID-2241.png', 'COVID-813.png', 'COVID-1748.png', 'COVID-1990.png', 'COVID-2527.png', 'COVID-422.png', 'COVID-344.png', 'COVID-2916.png', 'COVID-2902.png', 'COVID-350.png', 'COVID-436.png', 'COVID-2094.png', 'COVID-378.png', 'COVID-2080.png', 'COVID-1589.png', 'COVID-1562.png', 'COVID-3375.png', 'COVID-3413.png', 'COVID-1204.png', 'COVID-387.png', 'COVID-1210.png', 'COVID-393.png', 'COVID-3407.png', 'COVID-2719.png', 'COVID-3361.png', 'COVID-1576.png', 'COVID-2057.png', 'COVID-3349.png', 'COVID-1238.png', 'COVID-2731.png', 'COVID-2725.png', 'COVID-2043.png', 'COVID-19.png', 'COVID-556.png', 'COVID-230.png', 'COVID-2862.png', 'COVID-2876.png', 'COVID-224.png', 'COVID-542.png', 'COVID-25.png', 'COVID-3598.png', 'COVID-2686.png', 'COVID-218.png', 'COVID-2692.png', 'COVID-31.png', 'COVID-1416.png', 'COVID-595.png', 'COVID-3201.png', 'COVID-2679.png', 'COVID-3567.png', 'COVID-1370.png', 'COVID-1364.png', 'COVID-3573.png', 'COVID-3215.png', 'COVID-1402.png', 'COVID-581.png', 'COVID-2123.png', 'COVID-2645.png', 'COVID-2651.png', 'COVID-2889.png', 'COVID-1358.png', 'COVID-3229.png', 'COVID-2137.png', 'COVID-754.png', 'COVID-998.png', 'COVID-740.png', 'COVID-2484.png', 'COVID-1833.png', 'COVID-768.png', 'COVID-1827.png', 'COVID-2490.png', 'COVID-1199.png', 'COVID-1172.png', 'COVID-6.png', 'COVID-3003.png', 'COVID-797.png', 'COVID-1614.png', 'COVID-783.png', 'COVID-1600.png', 'COVID-2309.png', 'COVID-3017.png', 'COVID-1166.png', 'COVID-2447.png', 'COVID-973.png', 'COVID-1628.png', 'COVID-2321.png', 'COVID-2335.png', 'COVID-967.png', 'COVID-2453.png', 'COVID-2323.png', 'COVID-971.png', 'COVID-2445.png', 'COVID-2451.png', 'COVID-1158.png', 'COVID-965.png', 'COVID-3029.png', 'COVID-2337.png', 'COVID-1616.png', 'COVID-795.png', 'COVID-3001.png', 'COVID-2479.png', 'COVID-4.png', 'COVID-1170.png', 'COVID-1164.png', 'COVID-3015.png', 'COVID-959.png', 'COVID-1602.png', 'COVID-781.png', 'COVID-1831.png', 'COVID-2486.png', 'COVID-2492.png', 'COVID-1825.png', 'COVID-756.png', 'COVID-1819.png', 'COVID-742.png', 'COVID-3559.png', 'COVID-2647.png', 'COVID-1428.png', 'COVID-2121.png', 'COVID-2135.png', 'COVID-2653.png', 'COVID-1372.png', 'COVID-3565.png', 'COVID-3203.png', 'COVID-597.png', 'COVID-1414.png', 'COVID-583.png', 'COVID-1400.png', 'COVID-2109.png', 'COVID-3217.png', 'COVID-3571.png', 'COVID-1366.png', 'COVID-2684.png', 'COVID-27.png', 'COVID-568.png', 'COVID-33.png', 'COVID-2690.png', 'COVID-2848.png', 'COVID-1399.png', 'COVID-2860.png', 'COVID-232.png', 'COVID-554.png', 'COVID-540.png', 'COVID-226.png', 'COVID-2874.png', 'COVID-2733.png', 'COVID-2055.png', 'COVID-2041.png', 'COVID-1548.png', 'COVID-2727.png', 'COVID-3439.png', 'COVID-385.png', 'COVID-1206.png', 'COVID-3411.png', 'COVID-3377.png', 'COVID-2069.png', 'COVID-1560.png', 'COVID-1574.png', 'COVID-3363.png', 'COVID-3405.png', 'COVID-391.png', 'COVID-1212.png', 'COVID-2928.png', 'COVID-2096.png', 'COVID-3388.png', 'COVID-408.png', 'COVID-2082.png', 'COVID-2914.png', 'COVID-346.png', 'COVID-420.png', 'COVID-434.png', 'COVID-352.png', 'COVID-2900.png', 'COVID-2257.png', 'COVID-3149.png', 'COVID-1986.png', 'COVID-805.png', 'COVID-1038.png', 'COVID-2531.png', 'COVID-2525.png', 'COVID-1992.png', 'COVID-811.png', 'COVID-2243.png', 'COVID-839.png', 'COVID-1762.png', 'COVID-3175.png', 'COVID-3613.png', 'COVID-1004.png', 'COVID-187.png', 'COVID-1010.png', 'COVID-193.png', 'COVID-3607.png', 'COVID-2519.png', 'COVID-3161.png', 'COVID-1776.png', 'COVID-1945.png', 'COVID-2294.png', 'COVID-178.png', 'COVID-2280.png', 'COVID-1789.png', 'COVID-1951.png', 'COVID-1979.png', 'COVID-622.png', 'COVID-144.png', 'COVID-150.png', 'COVID-636.png', 'COVID-151.png', 'COVID-637.png', 'COVID-623.png', 'COVID-1978.png', 'COVID-145.png', 'COVID-1950.png', 'COVID-1788.png', 'COVID-2281.png', 'COVID-2295.png', 'COVID-1944.png', 'COVID-179.png', 'COVID-2518.png', 'COVID-3606.png', 'COVID-192.png', 'COVID-1011.png', 'COVID-1777.png', 'COVID-3160.png', 'COVID-3174.png', 'COVID-1763.png', 'COVID-838.png', 'COVID-186.png', 'COVID-1005.png', 'COVID-3612.png', 'COVID-2524.png', 'COVID-2242.png', 'COVID-810.png', 'COVID-1993.png', 'COVID-804.png', 'COVID-1987.png', 'COVID-3148.png', 'COVID-2256.png', 'COVID-2530.png', 'COVID-1039.png', 'COVID-435.png', 'COVID-2901.png', 'COVID-353.png', 'COVID-347.png', 'COVID-2915.png', 'COVID-421.png', 'COVID-2083.png', 'COVID-409.png', 'COVID-2929.png', 'COVID-3389.png', 'COVID-2097.png', 'COVID-3362.png', 'COVID-1575.png', 'COVID-1213.png', 'COVID-390.png', 'COVID-3404.png', 'COVID-3410.png', 'COVID-1207.png', 'COVID-384.png', 'COVID-1561.png', 'COVID-2068.png', 'COVID-3376.png', 'COVID-1549.png', 'COVID-2040.png', 'COVID-3438.png', 'COVID-2726.png', 'COVID-2732.png', 'COVID-2054.png', 'COVID-541.png', 'COVID-2875.png', 'COVID-227.png', 'COVID-233.png', 'COVID-2861.png', 'COVID-555.png', 'COVID-32.png', 'COVID-1398.png', 'COVID-2849.png', 'COVID-2691.png', 'COVID-2685.png', 'COVID-569.png', 'COVID-26.png', 'COVID-3216.png', 'COVID-2108.png', 'COVID-1401.png', 'COVID-582.png', 'COVID-1367.png', 'COVID-3570.png', 'COVID-3564.png', 'COVID-1373.png', 'COVID-1415.png', 'COVID-596.png', 'COVID-3202.png', 'COVID-2134.png', 'COVID-2652.png', 'COVID-2646.png', 'COVID-3558.png', 'COVID-2120.png', 'COVID-1429.png', 'COVID-743.png', 'COVID-1818.png', 'COVID-757.png', 'COVID-2493.png', 'COVID-1824.png', 'COVID-1830.png', 'COVID-2487.png', 'COVID-1165.png', 'COVID-780.png', 'COVID-1603.png', 'COVID-958.png', 'COVID-3014.png', 'COVID-3000.png', 'COVID-794.png', 'COVID-1617.png', 'COVID-1171.png', 'COVID-5.png', 'COVID-2478.png', 'COVID-1159.png', 'COVID-2450.png', 'COVID-2336.png', 'COVID-3028.png', 'COVID-964.png', 'COVID-970.png', 'COVID-2322.png', 'COVID-2444.png', 'COVID-3067.png', 'COVID-2379.png', 'COVID-1670.png', 'COVID-1116.png', 'COVID-1102.png', 'COVID-1664.png', 'COVID-3073.png', 'COVID-917.png', 'COVID-1894.png', 'COVID-2345.png', 'COVID-2423.png', 'COVID-2437.png', 'COVID-2351.png', 'COVID-1658.png', 'COVID-903.png', 'COVID-1880.png', 'COVID-730.png', 'COVID-724.png', 'COVID-2386.png', 'COVID-3098.png', 'COVID-1857.png', 'COVID-718.png', 'COVID-1843.png', 'COVID-2392.png', 'COVID-3503.png', 'COVID-1314.png', 'COVID-297.png', 'COVID-1472.png', 'COVID-3265.png', 'COVID-3271.png', 'COVID-1466.png', 'COVID-1300.png', 'COVID-283.png', 'COVID-3517.png', 'COVID-2609.png', 'COVID-1328.png', 'COVID-2621.png', 'COVID-82.png', 'COVID-2147.png', 'COVID-3259.png', 'COVID-2153.png', 'COVID-96.png', 'COVID-2635.png', 'COVID-254.png', 'COVID-2806.png', 'COVID-532.png', 'COVID-526.png', 'COVID-69.png', 'COVID-2812.png', 'COVID-240.png', 'COVID-268.png', 'COVID-2184.png', 'COVID-41.png', 'COVID-55.png', 'COVID-2190.png', 'COVID-1499.png', 'COVID-2769.png', 'COVID-3477.png', 'COVID-1260.png', 'COVID-1506.png', 'COVID-485.png', 'COVID-3311.png', 'COVID-3305.png', 'COVID-1512.png', 'COVID-491.png', 'COVID-1274.png', 'COVID-3463.png', 'COVID-2755.png', 'COVID-2033.png', 'COVID-3339.png', 'COVID-2027.png', 'COVID-2741.png', 'COVID-2999.png', 'COVID-1248.png', 'COVID-320.png', 'COVID-2972.png', 'COVID-446.png', 'COVID-452.png', 'COVID-2966.png', 'COVID-334.png', 'COVID-3488.png', 'COVID-2796.png', 'COVID-308.png', 'COVID-2782.png', 'COVID-3113.png', 'COVID-687.png', 'COVID-1704.png', 'COVID-1062.png', 'COVID-1076.png', 'COVID-693.png', 'COVID-1710.png', 'COVID-2219.png', 'COVID-3107.png', 'COVID-1738.png', 'COVID-863.png', 'COVID-2231.png', 'COVID-2557.png', 'COVID-2543.png', 'COVID-2225.png', 'COVID-877.png', 'COVID-644.png', 'COVID-122.png', 'COVID-136.png', 'COVID-888.png', 'COVID-650.png', 'COVID-678.png', 'COVID-1923.png', 'COVID-2594.png', 'COVID-2580.png', 'COVID-1089.png', 'COVID-1937.png', 'COVID-1088.png', 'COVID-2581.png', 'COVID-1936.png', 'COVID-1922.png', 'COVID-679.png', 'COVID-2595.png', 'COVID-137.png', 'COVID-651.png', 'COVID-889.png', 'COVID-645.png', 'COVID-123.png', 'COVID-2542.png', 'COVID-876.png', 'COVID-2224.png', 'COVID-2230.png', 'COVID-862.png', 'COVID-1739.png', 'COVID-2556.png', 'COVID-1077.png', 'COVID-3106.png', 'COVID-2218.png', 'COVID-1711.png', 'COVID-692.png', 'COVID-1705.png', 'COVID-686.png', 'COVID-3112.png', 'COVID-1063.png', 'COVID-2783.png', 'COVID-309.png', 'COVID-2797.png', 'COVID-3489.png', 'COVID-453.png', 'COVID-335.png', 'COVID-2967.png', 'COVID-2973.png', 'COVID-321.png', 'COVID-447.png', 'COVID-2026.png', 'COVID-3338.png', 'COVID-1249.png', 'COVID-2998.png', 'COVID-2740.png', 'COVID-2754.png', 'COVID-2032.png', 'COVID-490.png', 'COVID-1513.png', 'COVID-3304.png', 'COVID-3462.png', 'COVID-1275.png', 'COVID-1261.png', 'COVID-3476.png', 'COVID-2768.png', 'COVID-3310.png', 'COVID-484.png', 'COVID-1507.png', 'COVID-1498.png', 'COVID-54.png', 'COVID-2191.png', 'COVID-269.png', 'COVID-2185.png', 'COVID-40.png', 'COVID-68.png', 'COVID-527.png', 'COVID-241.png', 'COVID-2813.png', 'COVID-2807.png', 'COVID-255.png', 'COVID-533.png', 'COVID-2152.png', 'COVID-97.png', 'COVID-2634.png', 'COVID-2620.png', 'COVID-1329.png', 'COVID-3258.png', 'COVID-83.png', 'COVID-2146.png', 'COVID-1467.png', 'COVID-3270.png', 'COVID-2608.png', 'COVID-3516.png', 'COVID-282.png', 'COVID-1301.png', 'COVID-296.png', 'COVID-1315.png', 'COVID-3502.png', 'COVID-3264.png', 'COVID-1473.png', 'COVID-2393.png', 'COVID-1842.png', 'COVID-719.png', 'COVID-1856.png', 'COVID-3099.png', 'COVID-2387.png', 'COVID-725.png', 'COVID-731.png', 'COVID-2436.png', 'COVID-1881.png', 'COVID-902.png', 'COVID-1659.png', 'COVID-2350.png', 'COVID-2344.png', 'COVID-1895.png', 'COVID-916.png', 'COVID-2422.png', 'COVID-1103.png', 'COVID-3072.png', 'COVID-1665.png', 'COVID-1671.png', 'COVID-2378.png', 'COVID-3066.png', 'COVID-1117.png', 'COVID-1667.png', 'COVID-3070.png', 'COVID-2408.png', 'COVID-1101.png', 'COVID-1115.png', 'COVID-3064.png', 'COVID-928.png', 'COVID-1673.png', 'COVID-2352.png', 'COVID-900.png', 'COVID-1883.png', 'COVID-2434.png', 'COVID-2420.png', 'COVID-1129.png', 'COVID-914.png', 'COVID-1897.png', 'COVID-3058.png', 'COVID-2346.png', 'COVID-727.png', 'COVID-1868.png', 'COVID-733.png', 'COVID-1840.png', 'COVID-1698.png', 'COVID-2391.png', 'COVID-2385.png', 'COVID-1854.png', 'COVID-1303.png', 'COVID-280.png', 'COVID-3514.png', 'COVID-3272.png', 'COVID-1465.png', 'COVID-1471.png', 'COVID-2178.png', 'COVID-3266.png', 'COVID-3500.png', 'COVID-1317.png', 'COVID-294.png', 'COVID-3528.png', 'COVID-2636.png', 'COVID-1459.png', 'COVID-95.png', 'COVID-2150.png', 'COVID-2144.png', 'COVID-81.png', 'COVID-2622.png', 'COVID-2811.png', 'COVID-243.png', 'COVID-525.png', 'COVID-531.png', 'COVID-257.png', 'COVID-2805.png', 'COVID-2193.png', 'COVID-56.png', 'COVID-519.png', 'COVID-3299.png', 'COVID-42.png', 'COVID-2187.png', 'COVID-2839.png', 'COVID-1277.png', 'COVID-3460.png', 'COVID-3306.png', 'COVID-2018.png', 'COVID-1511.png', 'COVID-492.png', 'COVID-1505.png', 'COVID-486.png', 'COVID-3312.png', 'COVID-3474.png', 'COVID-1263.png', 'COVID-2742.png', 'COVID-2024.png', 'COVID-2030.png', 'COVID-1539.png', 'COVID-2756.png', 'COVID-3448.png', 'COVID-2965.png', 'COVID-337.png', 'COVID-451.png', 'COVID-445.png', 'COVID-323.png', 'COVID-2971.png', 'COVID-1288.png', 'COVID-2959.png', 'COVID-2781.png', 'COVID-479.png', 'COVID-2795.png', 'COVID-690.png', 'COVID-848.png', 'COVID-1713.png', 'COVID-3104.png', 'COVID-1075.png', 'COVID-1061.png', 'COVID-2568.png', 'COVID-3110.png', 'COVID-684.png', 'COVID-1707.png', 'COVID-2226.png', 'COVID-3138.png', 'COVID-874.png', 'COVID-1049.png', 'COVID-2540.png', 'COVID-2554.png', 'COVID-860.png', 'COVID-2232.png', 'COVID-1908.png', 'COVID-653.png', 'COVID-135.png', 'COVID-121.png', 'COVID-647.png', 'COVID-1934.png', 'COVID-2583.png', 'COVID-109.png', 'COVID-2597.png', 'COVID-1920.png', 'COVID-2596.png', 'COVID-1921.png', 'COVID-1935.png', 'COVID-108.png', 'COVID-2582.png', 'COVID-120.png', 'COVID-646.png', 'COVID-652.png', 'COVID-1909.png', 'COVID-134.png', 'COVID-2555.png', 'COVID-2233.png', 'COVID-861.png', 'COVID-875.png', 'COVID-3139.png', 'COVID-2227.png', 'COVID-2541.png', 'COVID-1048.png', 'COVID-2569.png', 'COVID-1060.png', 'COVID-1706.png', 'COVID-685.png', 'COVID-3111.png', 'COVID-3105.png', 'COVID-1712.png', 'COVID-849.png', 'COVID-691.png', 'COVID-1074.png', 'COVID-478.png', 'COVID-2794.png', 'COVID-2780.png', 'COVID-2958.png', 'COVID-1289.png', 'COVID-444.png', 'COVID-2970.png', 'COVID-322.png', 'COVID-336.png', 'COVID-2964.png', 'COVID-450.png', 'COVID-1538.png', 'COVID-2031.png', 'COVID-3449.png', 'COVID-2757.png', 'COVID-2743.png', 'COVID-2025.png', 'COVID-3313.png', 'COVID-487.png', 'COVID-1504.png', 'COVID-1262.png', 'COVID-3475.png', 'COVID-3461.png', 'COVID-1276.png', 'COVID-493.png', 'COVID-1510.png', 'COVID-2019.png', 'COVID-3307.png', 'COVID-43.png', 'COVID-2186.png', 'COVID-3298.png', 'COVID-2838.png', 'COVID-518.png', 'COVID-2192.png', 'COVID-57.png', 'COVID-530.png', 'COVID-2804.png', 'COVID-256.png', 'COVID-242.png', 'COVID-2810.png', 'COVID-524.png', 'COVID-2145.png', 'COVID-80.png', 'COVID-2623.png', 'COVID-2637.png', 'COVID-3529.png', 'COVID-94.png', 'COVID-2151.png', 'COVID-1458.png', 'COVID-3267.png', 'COVID-2179.png', 'COVID-1470.png', 'COVID-295.png', 'COVID-1316.png', 'COVID-3501.png', 'COVID-3515.png', 'COVID-281.png', 'COVID-1302.png', 'COVID-1464.png', 'COVID-3273.png', 'COVID-1855.png', 'COVID-2384.png', 'COVID-2390.png', 'COVID-1699.png', 'COVID-1841.png', 'COVID-732.png', 'COVID-1869.png', 'COVID-726.png', 'COVID-1128.png', 'COVID-2421.png', 'COVID-2347.png', 'COVID-3059.png', 'COVID-1896.png', 'COVID-915.png', 'COVID-1882.png', 'COVID-901.png', 'COVID-2353.png', 'COVID-2435.png', 'COVID-1114.png', 'COVID-1672.png', 'COVID-929.png', 'COVID-3065.png', 'COVID-3071.png', 'COVID-1666.png', 'COVID-1100.png', 'COVID-2409.png', 'COVID-1138.png', 'COVID-2431.png', 'COVID-3049.png', 'COVID-2357.png', 'COVID-905.png', 'COVID-1886.png', 'COVID-911.png', 'COVID-1892.png', 'COVID-2343.png', 'COVID-2425.png', 'COVID-1104.png', 'COVID-1662.png', 'COVID-939.png', 'COVID-3075.png', 'COVID-3061.png', 'COVID-1676.png', 'COVID-1110.png', 'COVID-2419.png', 'COVID-1845.png', 'COVID-2394.png', 'COVID-2380.png', 'COVID-1851.png', 'COVID-1689.png', 'COVID-722.png', 'COVID-1879.png', 'COVID-736.png', 'COVID-2155.png', 'COVID-90.png', 'COVID-2633.png', 'COVID-3539.png', 'COVID-2627.png', 'COVID-84.png', 'COVID-2141.png', 'COVID-1448.png', 'COVID-2169.png', 'COVID-3277.png', 'COVID-1460.png', 'COVID-1306.png', 'COVID-285.png', 'COVID-3511.png', 'COVID-3505.png', 'COVID-1312.png', 'COVID-291.png', 'COVID-1474.png', 'COVID-3263.png', 'COVID-3288.png', 'COVID-53.png', 'COVID-2196.png', 'COVID-2828.png', 'COVID-508.png', 'COVID-2182.png', 'COVID-47.png', 'COVID-520.png', 'COVID-2814.png', 'COVID-246.png', 'COVID-252.png', 'COVID-2800.png', 'COVID-534.png', 'COVID-1528.png', 'COVID-2021.png', 'COVID-2747.png', 'COVID-3459.png', 'COVID-2753.png', 'COVID-2035.png', 'COVID-3303.png', 'COVID-1514.png', 'COVID-497.png', 'COVID-1272.png', 'COVID-3465.png', 'COVID-3471.png', 'COVID-1266.png', 'COVID-1500.png', 'COVID-483.png', 'COVID-3317.png', 'COVID-2009.png', 'COVID-468.png', 'COVID-2784.png', 'COVID-2948.png', 'COVID-2790.png', 'COVID-1299.png', 'COVID-454.png', 'COVID-2960.png', 'COVID-332.png', 'COVID-326.png', 'COVID-2974.png', 'COVID-440.png', 'COVID-2545.png', 'COVID-2223.png', 'COVID-871.png', 'COVID-865.png', 'COVID-2237.png', 'COVID-3129.png', 'COVID-2551.png', 'COVID-1058.png', 'COVID-2579.png', 'COVID-1070.png', 'COVID-695.png', 'COVID-1716.png', 'COVID-3101.png', 'COVID-3115.png', 'COVID-681.png', 'COVID-1702.png', 'COVID-859.png', 'COVID-1064.png', 'COVID-2586.png', 'COVID-1931.png', 'COVID-1925.png', 'COVID-118.png', 'COVID-2592.png', 'COVID-130.png', 'COVID-656.png', 'COVID-642.png', 'COVID-1919.png', 'COVID-124.png', 'COVID-1918.png', 'COVID-643.png', 'COVID-125.png', 'COVID-131.png', 'COVID-657.png', 'COVID-1924.png', 'COVID-2593.png', 'COVID-119.png', 'COVID-2587.png', 'COVID-1930.png', 'COVID-858.png', 'COVID-1703.png', 'COVID-680.png', 'COVID-3114.png', 'COVID-1065.png', 'COVID-1071.png', 'COVID-2578.png', 'COVID-3100.png', 'COVID-1717.png', 'COVID-694.png', 'COVID-3128.png', 'COVID-2236.png', 'COVID-864.png', 'COVID-1059.png', 'COVID-2550.png', 'COVID-2544.png', 'COVID-870.png', 'COVID-2222.png', 'COVID-2975.png', 'COVID-327.png', 'COVID-441.png', 'COVID-455.png', 'COVID-333.png', 'COVID-2961.png', 'COVID-1298.png', 'COVID-2791.png', 'COVID-2949.png', 'COVID-469.png', 'COVID-2785.png', 'COVID-1267.png', 'COVID-3470.png', 'COVID-2008.png', 'COVID-3316.png', 'COVID-482.png', 'COVID-1501.png', 'COVID-496.png', 'COVID-1515.png', 'COVID-3302.png', 'COVID-3464.png', 'COVID-1273.png', 'COVID-2752.png', 'COVID-2034.png', 'COVID-2020.png', 'COVID-1529.png', 'COVID-3458.png', 'COVID-2746.png', 'COVID-2801.png', 'COVID-253.png', 'COVID-535.png', 'COVID-521.png', 'COVID-247.png', 'COVID-2815.png', 'COVID-2183.png', 'COVID-46.png', 'COVID-509.png', 'COVID-52.png', 'COVID-2197.png', 'COVID-3289.png', 'COVID-2829.png', 'COVID-290.png', 'COVID-1313.png', 'COVID-3504.png', 'COVID-3262.png', 'COVID-1475.png', 'COVID-1461.png', 'COVID-3276.png', 'COVID-2168.png', 'COVID-3510.png', 'COVID-284.png', 'COVID-1307.png', 'COVID-2626.png', 'COVID-3538.png', 'COVID-1449.png', 'COVID-85.png', 'COVID-2140.png', 'COVID-2154.png', 'COVID-91.png', 'COVID-2632.png', 'COVID-737.png', 'COVID-1878.png', 'COVID-723.png', 'COVID-1688.png', 'COVID-1850.png', 'COVID-2381.png', 'COVID-2395.png', 'COVID-1844.png', 'COVID-1677.png', 'COVID-3060.png', 'COVID-2418.png', 'COVID-1111.png', 'COVID-1105.png', 'COVID-3074.png', 'COVID-938.png', 'COVID-1663.png', 'COVID-2342.png', 'COVID-1893.png', 'COVID-910.png', 'COVID-2424.png', 'COVID-2430.png', 'COVID-1139.png', 'COVID-1887.png', 'COVID-904.png', 'COVID-2356.png', 'COVID-3048.png', 'COVID-2426.png', 'COVID-912.png', 'COVID-1649.png', 'COVID-1891.png', 'COVID-2340.png', 'COVID-2354.png', 'COVID-906.png', 'COVID-1885.png', 'COVID-2432.png', 'COVID-1113.png', 'COVID-3062.png', 'COVID-1675.png', 'COVID-1661.png', 'COVID-3076.png', 'COVID-2368.png', 'COVID-1107.png', 'COVID-2383.png', 'COVID-1852.png', 'COVID-709.png', 'COVID-1846.png', 'COVID-2397.png', 'COVID-3089.png', 'COVID-735.png', 'COVID-721.png', 'COVID-2142.png', 'COVID-87.png', 'COVID-2624.png', 'COVID-2630.png', 'COVID-1339.png', 'COVID-93.png', 'COVID-2156.png', 'COVID-3248.png', 'COVID-1477.png', 'COVID-3260.png', 'COVID-3506.png', 'COVID-2618.png', 'COVID-1311.png', 'COVID-292.png', 'COVID-1305.png', 'COVID-286.png', 'COVID-3512.png', 'COVID-3274.png', 'COVID-1463.png', 'COVID-1488.png', 'COVID-44.png', 'COVID-2181.png', 'COVID-279.png', 'COVID-2195.png', 'COVID-50.png', 'COVID-78.png', 'COVID-537.png', 'COVID-251.png', 'COVID-2803.png', 'COVID-2817.png', 'COVID-245.png', 'COVID-523.png', 'COVID-3328.png', 'COVID-2036.png', 'COVID-1259.png', 'COVID-2750.png', 'COVID-2988.png', 'COVID-2744.png', 'COVID-2022.png', 'COVID-1503.png', 'COVID-480.png', 'COVID-3314.png', 'COVID-3472.png', 'COVID-1265.png', 'COVID-1271.png', 'COVID-2778.png', 'COVID-3466.png', 'COVID-3300.png', 'COVID-1517.png', 'COVID-494.png', 'COVID-2793.png', 'COVID-319.png', 'COVID-3499.png', 'COVID-2787.png', 'COVID-443.png', 'COVID-325.png', 'COVID-2977.png', 'COVID-2963.png', 'COVID-331.png', 'COVID-457.png', 'COVID-2552.png', 'COVID-866.png', 'COVID-2234.png', 'COVID-2220.png', 'COVID-872.png', 'COVID-1729.png', 'COVID-2546.png', 'COVID-1067.png', 'COVID-2208.png', 'COVID-3116.png', 'COVID-682.png', 'COVID-1701.png', 'COVID-696.png', 'COVID-1715.png', 'COVID-3102.png', 'COVID-1073.png', 'COVID-1098.png', 'COVID-2591.png', 'COVID-1926.png', 'COVID-1932.png', 'COVID-669.png', 'COVID-2585.png', 'COVID-127.png', 'COVID-899.png', 'COVID-641.png', 'COVID-655.png', 'COVID-133.png', 'COVID-654.png', 'COVID-132.png', 'COVID-126.png', 'COVID-640.png', 'COVID-898.png', 'COVID-668.png', 'COVID-1933.png', 'COVID-2584.png', 'COVID-2590.png', 'COVID-1099.png', 'COVID-1927.png', 'COVID-3103.png', 'COVID-1714.png', 'COVID-697.png', 'COVID-1072.png', 'COVID-1066.png', 'COVID-1700.png', 'COVID-683.png', 'COVID-3117.png', 'COVID-2209.png', 'COVID-1728.png', 'COVID-873.png', 'COVID-2221.png', 'COVID-2547.png', 'COVID-2553.png', 'COVID-2235.png', 'COVID-867.png', 'COVID-330.png', 'COVID-2962.png', 'COVID-456.png', 'COVID-442.png', 'COVID-2976.png', 'COVID-324.png', 'COVID-2786.png', 'COVID-3498.png', 'COVID-318.png', 'COVID-2792.png', 'COVID-3467.png', 'COVID-2779.png', 'COVID-1270.png', 'COVID-495.png', 'COVID-1516.png', 'COVID-3301.png', 'COVID-3315.png', 'COVID-481.png', 'COVID-1502.png', 'COVID-1264.png', 'COVID-3473.png', 'COVID-2745.png', 'COVID-2023.png', 'COVID-2037.png', 'COVID-3329.png', 'COVID-2989.png', 'COVID-2751.png', 'COVID-1258.png', 'COVID-244.png', 'COVID-2816.png', 'COVID-522.png', 'COVID-536.png', 'COVID-79.png', 'COVID-2802.png', 'COVID-250.png', 'COVID-278.png', 'COVID-2194.png', 'COVID-51.png', 'COVID-45.png', 'COVID-2180.png', 'COVID-1489.png', 'COVID-3513.png', 'COVID-287.png', 'COVID-1304.png', 'COVID-1462.png', 'COVID-3275.png', 'COVID-3261.png', 'COVID-1476.png', 'COVID-293.png', 'COVID-1310.png', 'COVID-2619.png', 'COVID-3507.png', 'COVID-1338.png', 'COVID-2631.png', 'COVID-3249.png', 'COVID-92.png', 'COVID-2157.png', 'COVID-2143.png', 'COVID-86.png', 'COVID-2625.png', 'COVID-720.png', 'COVID-734.png', 'COVID-3088.png', 'COVID-2396.png', 'COVID-1847.png', 'COVID-708.png', 'COVID-1853.png', 'COVID-2382.png', 'COVID-2369.png', 'COVID-3077.png', 'COVID-1660.png', 'COVID-1106.png', 'COVID-1112.png', 'COVID-1674.png', 'COVID-3063.png', 'COVID-1884.png', 'COVID-907.png', 'COVID-2355.png', 'COVID-2433.png', 'COVID-2427.png', 'COVID-2341.png', 'COVID-1890.png', 'COVID-1648.png', 'COVID-913.png', 'COVID-1651.png', 'COVID-1889.png', 'COVID-3046.png', 'COVID-2358.png', 'COVID-1137.png', 'COVID-1123.png', 'COVID-3052.png', 'COVID-1645.png', 'COVID-2364.png', 'COVID-936.png', 'COVID-2402.png', 'COVID-2416.png', 'COVID-1679.png', 'COVID-922.png', 'COVID-2370.png', 'COVID-3085.png', 'COVID-711.png', 'COVID-1692.png', 'COVID-705.png', 'COVID-1686.png', 'COVID-3091.png', 'COVID-1876.png', 'COVID-739.png', 'COVID-1862.png', 'COVID-1335.png', 'COVID-3522.png', 'COVID-3244.png', 'COVID-1453.png', 'COVID-1447.png', 'COVID-3250.png', 'COVID-3536.png', 'COVID-2628.png', 'COVID-1321.png', 'COVID-2600.png', 'COVID-1309.png', 'COVID-2166.png', 'COVID-3278.png', 'COVID-2172.png', 'COVID-2614.png', 'COVID-2827.png', 'COVID-275.png', 'COVID-1490.png', 'COVID-513.png', 'COVID-3287.png', 'COVID-2199.png', 'COVID-3293.png', 'COVID-48.png', 'COVID-1484.png', 'COVID-507.png', 'COVID-261.png', 'COVID-2833.png', 'COVID-249.png', 'COVID-60.png', 'COVID-74.png', 'COVID-1241.png', 'COVID-2748.png', 'COVID-2990.png', 'COVID-3456.png', 'COVID-3330.png', 'COVID-1527.png', 'COVID-1533.png', 'COVID-3324.png', 'COVID-2984.png', 'COVID-3442.png', 'COVID-1255.png', 'COVID-2774.png', 'COVID-498.png', 'COVID-2012.png', 'COVID-3318.png', 'COVID-2006.png', 'COVID-1269.png', 'COVID-2760.png', 'COVID-2953.png', 'COVID-3495.png', 'COVID-1282.png', 'COVID-301.png', 'COVID-467.png', 'COVID-473.png', 'COVID-1296.png', 'COVID-315.png', 'COVID-2947.png', 'COVID-3481.png', 'COVID-329.png', 'COVID-1725.png', 'COVID-3132.png', 'COVID-1043.png', 'COVID-1057.png', 'COVID-2238.png', 'COVID-3126.png', 'COVID-1731.png', 'COVID-2210.png', 'COVID-1719.png', 'COVID-842.png', 'COVID-2576.png', 'COVID-2562.png', 'COVID-856.png', 'COVID-2204.png', 'COVID-665.png', 'COVID-103.png', 'COVID-1080.png', 'COVID-2589.png', 'COVID-117.png', 'COVID-1094.png', 'COVID-671.png', 'COVID-881.png', 'COVID-659.png', 'COVID-1902.png', 'COVID-895.png', 'COVID-1916.png', 'COVID-1917.png', 'COVID-894.png', 'COVID-1903.png', 'COVID-658.png', 'COVID-880.png', 'COVID-1095.png', 'COVID-116.png', 'COVID-670.png', 'COVID-664.png', 'COVID-2588.png', 'COVID-1081.png', 'COVID-102.png', 'COVID-2563.png', 'COVID-2205.png', 'COVID-857.png', 'COVID-843.png', 'COVID-1718.png', 'COVID-2211.png', 'COVID-2577.png', 'COVID-1056.png', 'COVID-1730.png', 'COVID-3127.png', 'COVID-2239.png', 'COVID-3133.png', 'COVID-1724.png', 'COVID-1042.png', 'COVID-328.png', 'COVID-472.png', 'COVID-3480.png', 'COVID-2946.png', 'COVID-314.png', 'COVID-1297.png', 'COVID-300.png', 'COVID-1283.png', 'COVID-3494.png', 'COVID-2952.png', 'COVID-466.png', 'COVID-2007.png', 'COVID-3319.png', 'COVID-2761.png', 'COVID-1268.png', 'COVID-2775.png', 'COVID-2013.png', 'COVID-499.png', 'COVID-3325.png', 'COVID-1532.png', 'COVID-1254.png', 'COVID-3443.png', 'COVID-2985.png', 'COVID-3457.png', 'COVID-2991.png', 'COVID-2749.png', 'COVID-1240.png', 'COVID-1526.png', 'COVID-3331.png', 'COVID-75.png', 'COVID-248.png', 'COVID-61.png', 'COVID-506.png', 'COVID-1485.png', 'COVID-49.png', 'COVID-3292.png', 'COVID-2832.png', 'COVID-260.png', 'COVID-274.png', 'COVID-2826.png', 'COVID-2198.png', 'COVID-3286.png', 'COVID-512.png', 'COVID-1491.png', 'COVID-2173.png', 'COVID-2615.png', 'COVID-1308.png', 'COVID-2601.png', 'COVID-3279.png', 'COVID-2167.png', 'COVID-3251.png', 'COVID-1446.png', 'COVID-1320.png', 'COVID-2629.png', 'COVID-3537.png', 'COVID-3523.png', 'COVID-1334.png', 'COVID-1452.png', 'COVID-3245.png', 'COVID-1863.png', 'COVID-738.png', 'COVID-1877.png', 'COVID-3090.png', 'COVID-1687.png', 'COVID-704.png', 'COVID-1693.png', 'COVID-710.png', 'COVID-3084.png', 'COVID-2417.png', 'COVID-2371.png', 'COVID-923.png', 'COVID-1678.png', 'COVID-937.png', 'COVID-2365.png', 'COVID-2403.png', 'COVID-1122.png', 'COVID-1644.png', 'COVID-3053.png', 'COVID-2359.png', 'COVID-3047.png', 'COVID-1888.png', 'COVID-1650.png', 'COVID-1136.png', 'COVID-3051.png', 'COVID-1646.png', 'COVID-1120.png', 'COVID-2429.png', 'COVID-1134.png', 'COVID-909.png', 'COVID-1652.png', 'COVID-3045.png', 'COVID-921.png', 'COVID-2373.png', 'COVID-2415.png', 'COVID-1108.png', 'COVID-2401.png', 'COVID-3079.png', 'COVID-2367.png', 'COVID-935.png', 'COVID-706.png', 'COVID-1685.png', 'COVID-3092.png', 'COVID-2398.png', 'COVID-3086.png', 'COVID-1849.png', 'COVID-712.png', 'COVID-1691.png', 'COVID-1861.png', 'COVID-1875.png', 'COVID-3535.png', 'COVID-1322.png', 'COVID-1444.png', 'COVID-88.png', 'COVID-3253.png', 'COVID-2159.png', 'COVID-3247.png', 'COVID-1450.png', 'COVID-1336.png', 'COVID-3521.png', 'COVID-3509.png', 'COVID-2617.png', 'COVID-2171.png', 'COVID-1478.png', 'COVID-2165.png', 'COVID-2603.png', 'COVID-289.png', 'COVID-262.png', 'COVID-2830.png', 'COVID-3290.png', 'COVID-1487.png', 'COVID-504.png', 'COVID-1493.png', 'COVID-510.png', 'COVID-3284.png', 'COVID-2824.png', 'COVID-276.png', 'COVID-538.png', 'COVID-77.png', 'COVID-63.png', 'COVID-2818.png', 'COVID-2987.png', 'COVID-3441.png', 'COVID-1256.png', 'COVID-1530.png', 'COVID-3327.png', 'COVID-2039.png', 'COVID-3333.png', 'COVID-1524.png', 'COVID-1242.png', 'COVID-2993.png', 'COVID-3455.png', 'COVID-2763.png', 'COVID-2005.png', 'COVID-1518.png', 'COVID-2011.png', 'COVID-2777.png', 'COVID-3469.png', 'COVID-1295.png', 'COVID-316.png', 'COVID-2944.png', 'COVID-3482.png', 'COVID-470.png', 'COVID-464.png', 'COVID-2950.png', 'COVID-3496.png', 'COVID-2788.png', 'COVID-1281.png', 'COVID-302.png', 'COVID-2978.png', 'COVID-458.png', 'COVID-3125.png', 'COVID-869.png', 'COVID-1732.png', 'COVID-1054.png', 'COVID-2549.png', 'COVID-1040.png', 'COVID-1726.png', 'COVID-3131.png', 'COVID-855.png', 'COVID-2207.png', 'COVID-3119.png', 'COVID-2561.png', 'COVID-1068.png', 'COVID-2575.png', 'COVID-2213.png', 'COVID-699.png', 'COVID-841.png', 'COVID-1929.png', 'COVID-672.png', 'COVID-114.png', 'COVID-1097.png', 'COVID-100.png', 'COVID-1083.png', 'COVID-666.png', 'COVID-896.png', 'COVID-1915.png', 'COVID-128.png', 'COVID-882.png', 'COVID-1901.png', 'COVID-1900.png', 'COVID-883.png', 'COVID-1914.png', 'COVID-897.png', 'COVID-129.png', 'COVID-1082.png', 'COVID-101.png', 'COVID-667.png', 'COVID-673.png', 'COVID-1928.png', 'COVID-1096.png', 'COVID-115.png', 'COVID-2574.png', 'COVID-840.png', 'COVID-698.png', 'COVID-2212.png', 'COVID-3118.png', 'COVID-2206.png', 'COVID-854.png', 'COVID-1069.png', 'COVID-2560.png', 'COVID-1041.png', 'COVID-2548.png', 'COVID-3130.png', 'COVID-1727.png', 'COVID-1733.png', 'COVID-868.png', 'COVID-3124.png', 'COVID-1055.png', 'COVID-459.png', 'COVID-2979.png', 'COVID-465.png', 'COVID-303.png', 'COVID-1280.png', 'COVID-2789.png', 'COVID-3497.png', 'COVID-2951.png', 'COVID-3483.png', 'COVID-2945.png', 'COVID-317.png', 'COVID-1294.png', 'COVID-471.png', 'COVID-2010.png', 'COVID-1519.png', 'COVID-3468.png', 'COVID-2776.png', 'COVID-2762.png', 'COVID-2004.png', 'COVID-1525.png', 'COVID-3332.png', 'COVID-3454.png', 'COVID-2992.png', 'COVID-1243.png', 'COVID-1257.png', 'COVID-3440.png', 'COVID-2986.png', 'COVID-2038.png', 'COVID-3326.png', 'COVID-1531.png', 'COVID-62.png', 'COVID-2819.png', 'COVID-76.png', 'COVID-539.png', 'COVID-3285.png', 'COVID-511.png', 'COVID-1492.png', 'COVID-277.png', 'COVID-2825.png', 'COVID-2831.png', 'COVID-263.png', 'COVID-505.png', 'COVID-1486.png', 'COVID-3291.png', 'COVID-2164.png', 'COVID-288.png', 'COVID-2602.png', 'COVID-2616.png', 'COVID-3508.png', 'COVID-1479.png', 'COVID-2170.png', 'COVID-1451.png', 'COVID-3246.png', 'COVID-2158.png', 'COVID-3520.png', 'COVID-1337.png', 'COVID-1323.png', 'COVID-3534.png', 'COVID-3252.png', 'COVID-89.png', 'COVID-1445.png', 'COVID-1874.png', 'COVID-1860.png', 'COVID-1690.png', 'COVID-713.png', 'COVID-1848.png', 'COVID-3087.png', 'COVID-2399.png', 'COVID-3093.png', 'COVID-1684.png', 'COVID-707.png', 'COVID-2400.png', 'COVID-1109.png', 'COVID-934.png', 'COVID-2366.png', 'COVID-3078.png', 'COVID-2372.png', 'COVID-920.png', 'COVID-2414.png', 'COVID-1135.png', 'COVID-3044.png', 'COVID-1653.png', 'COVID-908.png', 'COVID-1647.png', 'COVID-3050.png', 'COVID-2428.png', 'COVID-1121.png', 'COVID-2410.png', 'COVID-1119.png', 'COVID-924.png', 'COVID-3068.png', 'COVID-2376.png', 'COVID-2362.png', 'COVID-930.png', 'COVID-2404.png', 'COVID-1125.png', 'COVID-3054.png', 'COVID-1643.png', 'COVID-918.png', 'COVID-1657.png', 'COVID-3040.png', 'COVID-2438.png', 'COVID-1131.png', 'COVID-1864.png', 'COVID-1870.png', 'COVID-703.png', 'COVID-1858.png', 'COVID-1680.png', 'COVID-2389.png', 'COVID-3097.png', 'COVID-3083.png', 'COVID-717.png', 'COVID-1694.png', 'COVID-2174.png', 'COVID-298.png', 'COVID-2612.png', 'COVID-3518.png', 'COVID-2606.png', 'COVID-1469.png', 'COVID-2160.png', 'COVID-1441.png', 'COVID-2148.png', 'COVID-3256.png', 'COVID-3530.png', 'COVID-1327.png', 'COVID-1333.png', 'COVID-3524.png', 'COVID-99.png', 'COVID-3242.png', 'COVID-1455.png', 'COVID-72.png', 'COVID-2809.png', 'COVID-66.png', 'COVID-529.png', 'COVID-3295.png', 'COVID-1482.png', 'COVID-501.png', 'COVID-267.png', 'COVID-2835.png', 'COVID-2821.png', 'COVID-273.png', 'COVID-1496.png', 'COVID-515.png', 'COVID-3281.png', 'COVID-2000.png', 'COVID-1509.png', 'COVID-2766.png', 'COVID-3478.png', 'COVID-2772.png', 'COVID-2014.png', 'COVID-1535.png', 'COVID-3322.png', 'COVID-3444.png', 'COVID-2982.png', 'COVID-1253.png', 'COVID-1247.png', 'COVID-3450.png', 'COVID-2996.png', 'COVID-3336.png', 'COVID-2028.png', 'COVID-1521.png', 'COVID-449.png', 'COVID-2969.png', 'COVID-475.png', 'COVID-1290.png', 'COVID-313.png', 'COVID-3487.png', 'COVID-2941.png', 'COVID-2799.png', 'COVID-3493.png', 'COVID-2955.png', 'COVID-1284.png', 'COVID-307.png', 'COVID-461.png', 'COVID-2564.png', 'COVID-688.png', 'COVID-850.png', 'COVID-2202.png', 'COVID-2216.png', 'COVID-3108.png', 'COVID-844.png', 'COVID-1079.png', 'COVID-2570.png', 'COVID-1051.png', 'COVID-2558.png', 'COVID-3120.png', 'COVID-1737.png', 'COVID-1723.png', 'COVID-878.png', 'COVID-3134.png', 'COVID-1045.png', 'COVID-893.png', 'COVID-1910.png', 'COVID-887.png', 'COVID-1904.png', 'COVID-139.png', 'COVID-111.png', 'COVID-1092.png', 'COVID-677.png', 'COVID-663.png', 'COVID-1938.png', 'COVID-105.png', 'COVID-1086.png', 'COVID-1939.png', 'COVID-662.png', 'COVID-1087.png', 'COVID-104.png', 'COVID-1093.png', 'COVID-110.png', 'COVID-676.png', 'COVID-1905.png', 'COVID-886.png', 'COVID-138.png', 'COVID-1911.png', 'COVID-892.png', 'COVID-3135.png', 'COVID-879.png', 'COVID-1722.png', 'COVID-1044.png', 'COVID-2559.png', 'COVID-1050.png', 'COVID-1736.png', 'COVID-3121.png', 'COVID-845.png', 'COVID-3109.png', 'COVID-2217.png', 'COVID-2571.png', 'COVID-1078.png', 'COVID-2565.png', 'COVID-2203.png', 'COVID-851.png', 'COVID-689.png', 'COVID-306.png', 'COVID-1285.png', 'COVID-2954.png', 'COVID-3492.png', 'COVID-460.png', 'COVID-474.png', 'COVID-2798.png', 'COVID-2940.png', 'COVID-3486.png', 'COVID-312.png', 'COVID-1291.png', 'COVID-2968.png', 'COVID-448.png', 'COVID-2997.png', 'COVID-3451.png', 'COVID-1246.png', 'COVID-1520.png', 'COVID-2029.png', 'COVID-3337.png', 'COVID-3323.png', 'COVID-1534.png', 'COVID-1252.png', 'COVID-2983.png', 'COVID-3445.png', 'COVID-2773.png', 'COVID-2015.png', 'COVID-1508.png', 'COVID-2001.png', 'COVID-3479.png', 'COVID-2767.png', 'COVID-272.png', 'COVID-2820.png', 'COVID-3280.png', 'COVID-514.png', 'COVID-1497.png', 'COVID-500.png', 'COVID-1483.png', 'COVID-3294.png', 'COVID-2834.png', 'COVID-266.png', 'COVID-528.png', 'COVID-67.png', 'COVID-73.png', 'COVID-2808.png', 'COVID-3525.png', 'COVID-1332.png', 'COVID-1454.png', 'COVID-3243.png', 'COVID-98.png', 'COVID-3257.png', 'COVID-2149.png', 'COVID-1440.png', 'COVID-1326.png', 'COVID-3531.png', 'COVID-2607.png', 'COVID-3519.png', 'COVID-2161.png', 'COVID-1468.png', 'COVID-2175.png', 'COVID-2613.png', 'COVID-299.png', 'COVID-1695.png', 'COVID-716.png', 'COVID-3082.png', 'COVID-3096.png', 'COVID-2388.png', 'COVID-1681.png', 'COVID-1859.png', 'COVID-702.png', 'COVID-1871.png', 'COVID-1865.png', 'COVID-3041.png', 'COVID-1656.png', 'COVID-1130.png', 'COVID-2439.png', 'COVID-1124.png', 'COVID-919.png', 'COVID-1642.png', 'COVID-3055.png', 'COVID-931.png', 'COVID-2363.png', 'COVID-2405.png', 'COVID-1118.png', 'COVID-2411.png', 'COVID-2377.png', 'COVID-3069.png', 'COVID-925.png', 'COVID-2407.png', 'COVID-2361.png', 'COVID-933.png', 'COVID-1668.png', 'COVID-927.png', 'COVID-2375.png', 'COVID-2413.png', 'COVID-1132.png', 'COVID-1654.png', 'COVID-3043.png', 'COVID-3057.png', 'COVID-2349.png', 'COVID-1640.png', 'COVID-1898.png', 'COVID-1126.png', 'COVID-1873.png', 'COVID-728.png', 'COVID-1867.png', 'COVID-3080.png', 'COVID-714.png', 'COVID-1697.png', 'COVID-700.png', 'COVID-1683.png', 'COVID-3094.png', 'COVID-2163.png', 'COVID-2605.png', 'COVID-1318.png', 'COVID-2611.png', 'COVID-2177.png', 'COVID-3269.png', 'COVID-3241.png', 'COVID-1456.png', 'COVID-1330.png', 'COVID-3527.png', 'COVID-2639.png', 'COVID-3533.png', 'COVID-1324.png', 'COVID-1442.png', 'COVID-3255.png', 'COVID-65.png', 'COVID-258.png', 'COVID-71.png', 'COVID-1495.png', 'COVID-516.png', 'COVID-3282.png', 'COVID-59.png', 'COVID-2822.png', 'COVID-270.png', 'COVID-264.png', 'COVID-2836.png', 'COVID-3296.png', 'COVID-2188.png', 'COVID-1481.png', 'COVID-502.png', 'COVID-3309.png', 'COVID-2017.png', 'COVID-2771.png', 'COVID-1278.png', 'COVID-2765.png', 'COVID-2003.png', 'COVID-489.png', 'COVID-3335.png', 'COVID-1522.png', 'COVID-1244.png', 'COVID-3453.png', 'COVID-2995.png', 'COVID-2759.png', 'COVID-3447.png', 'COVID-2981.png', 'COVID-1250.png', 'COVID-1536.png', 'COVID-3321.png', 'COVID-338.png', 'COVID-462.png', 'COVID-3490.png', 'COVID-2956.png', 'COVID-1287.png', 'COVID-304.png', 'COVID-1293.png', 'COVID-310.png', 'COVID-3484.png', 'COVID-2942.png', 'COVID-476.png', 'COVID-2573.png', 'COVID-2215.png', 'COVID-847.png', 'COVID-853.png', 'COVID-1708.png', 'COVID-2201.png', 'COVID-2567.png', 'COVID-1046.png', 'COVID-1720.png', 'COVID-2229.png', 'COVID-3137.png', 'COVID-3123.png', 'COVID-1734.png', 'COVID-1052.png', 'COVID-884.png', 'COVID-1907.png', 'COVID-890.png', 'COVID-1913.png', 'COVID-648.png', 'COVID-106.png', 'COVID-1085.png', 'COVID-660.png', 'COVID-674.png', 'COVID-2598.png', 'COVID-112.png', 'COVID-1091.png', 'COVID-675.png', 'COVID-1090.png', 'COVID-113.png', 'COVID-2599.png', 'COVID-1084.png', 'COVID-107.png', 'COVID-661.png', 'COVID-649.png', 'COVID-1912.png', 'COVID-891.png', 'COVID-1906.png', 'COVID-885.png', 'COVID-1735.png', 'COVID-3122.png', 'COVID-1053.png', 'COVID-1047.png', 'COVID-3136.png', 'COVID-2228.png', 'COVID-1721.png', 'COVID-2200.png', 'COVID-1709.png', 'COVID-852.png', 'COVID-2566.png', 'COVID-2572.png', 'COVID-846.png', 'COVID-2214.png', 'COVID-2943.png', 'COVID-3485.png', 'COVID-311.png', 'COVID-1292.png', 'COVID-477.png', 'COVID-463.png', 'COVID-305.png', 'COVID-1286.png', 'COVID-2957.png', 'COVID-3491.png', 'COVID-339.png', 'COVID-1251.png', 'COVID-2980.png', 'COVID-3446.png', 'COVID-2758.png', 'COVID-3320.png', 'COVID-1537.png', 'COVID-1523.png', 'COVID-3334.png', 'COVID-2994.png', 'COVID-3452.png', 'COVID-1245.png', 'COVID-2764.png', 'COVID-488.png', 'COVID-2002.png', 'COVID-2016.png', 'COVID-3308.png', 'COVID-1279.png', 'COVID-2770.png', 'COVID-2837.png', 'COVID-265.png', 'COVID-503.png', 'COVID-1480.png', 'COVID-2189.png', 'COVID-3297.png', 'COVID-58.png', 'COVID-3283.png', 'COVID-517.png', 'COVID-1494.png', 'COVID-271.png', 'COVID-2823.png', 'COVID-259.png', 'COVID-70.png', 'COVID-64.png', 'COVID-1325.png', 'COVID-3532.png', 'COVID-3254.png', 'COVID-1443.png', 'COVID-1457.png', 'COVID-3240.png', 'COVID-2638.png', 'COVID-3526.png', 'COVID-1331.png', 'COVID-2610.png', 'COVID-1319.png', 'COVID-3268.png', 'COVID-2176.png', 'COVID-2162.png', 'COVID-2604.png', 'COVID-3095.png', 'COVID-1682.png', 'COVID-701.png', 'COVID-1696.png', 'COVID-715.png', 'COVID-3081.png', 'COVID-1866.png', 'COVID-729.png', 'COVID-1872.png', 'COVID-1899.png', 'COVID-1641.png', 'COVID-2348.png', 'COVID-3056.png', 'COVID-1127.png', 'COVID-1133.png', 'COVID-3042.png', 'COVID-1655.png', 'COVID-2374.png', 'COVID-926.png', 'COVID-2412.png', 'COVID-2406.png', 'COVID-1669.png', 'COVID-932.png', 'COVID-2360.png', 'COVID-1154.png', 'COVID-3025.png', 'COVID-1632.png', 'COVID-969.png', 'COVID-1626.png', 'COVID-3031.png', 'COVID-2449.png', 'COVID-1140.png', 'COVID-2461.png', 'COVID-1168.png', 'COVID-955.png', 'COVID-3019.png', 'COVID-2307.png', 'COVID-2313.png', 'COVID-941.png', 'COVID-799.png', 'COVID-8.png', 'COVID-2475.png', 'COVID-1197.png', 'COVID-772.png', 'COVID-1829.png', 'COVID-766.png', 'COVID-1183.png', 'COVID-1815.png', 'COVID-996.png', 'COVID-1801.png', 'COVID-982.png', 'COVID-1430.png', 'COVID-2139.png', 'COVID-3227.png', 'COVID-3541.png', 'COVID-2887.png', 'COVID-1356.png', 'COVID-1342.png', 'COVID-3555.png', 'COVID-2893.png', 'COVID-3233.png', 'COVID-1424.png', 'COVID-2105.png', 'COVID-2663.png', 'COVID-3569.png', 'COVID-2677.png', 'COVID-1418.png', 'COVID-2111.png', 'COVID-570.png', 'COVID-216.png', 'COVID-1395.png', 'COVID-3582.png', 'COVID-2844.png', 'COVID-2688.png', 'COVID-3596.png', 'COVID-2850.png', 'COVID-202.png', 'COVID-1381.png', 'COVID-564.png', 'COVID-2878.png', 'COVID-17.png', 'COVID-558.png', 'COVID-1544.png', 'COVID-3353.png', 'COVID-3435.png', 'COVID-1222.png', 'COVID-1236.png', 'COVID-3421.png', 'COVID-3347.png', 'COVID-2059.png', 'COVID-1550.png', 'COVID-2071.png', 'COVID-1578.png', 'COVID-2717.png', 'COVID-3409.png', 'COVID-2703.png', 'COVID-389.png', 'COVID-2065.png', 'COVID-3390.png', 'COVID-404.png', 'COVID-1587.png', 'COVID-362.png', 'COVID-2930.png', 'COVID-2924.png', 'COVID-376.png', 'COVID-410.png', 'COVID-1593.png', 'COVID-3384.png', 'COVID-438.png', 'COVID-2918.png', 'COVID-1020.png', 'COVID-2529.png', 'COVID-3151.png', 'COVID-1746.png', 'COVID-1752.png', 'COVID-809.png', 'COVID-3145.png', 'COVID-1034.png', 'COVID-2515.png', 'COVID-821.png', 'COVID-2273.png', 'COVID-2267.png', 'COVID-3179.png', 'COVID-835.png', 'COVID-1008.png', 'COVID-2501.png', 'COVID-160.png', 'COVID-1785.png', 'COVID-606.png', 'COVID-3192.png', 'COVID-3186.png', 'COVID-2298.png', 'COVID-1791.png', 'COVID-612.png', 'COVID-1949.png', 'COVID-174.png', 'COVID-1961.png', 'COVID-1975.png', 'COVID-148.png', 'COVID-1974.png', 'COVID-149.png', 'COVID-1960.png', 'COVID-1948.png', 'COVID-613.png', 'COVID-1790.png', 'COVID-2299.png', 'COVID-3187.png', 'COVID-175.png', 'COVID-161.png', 'COVID-3193.png', 'COVID-607.png', 'COVID-1784.png', 'COVID-834.png', 'COVID-3178.png', 'COVID-2266.png', 'COVID-2500.png', 'COVID-1009.png', 'COVID-2514.png', 'COVID-2272.png', 'COVID-820.png', 'COVID-3144.png', 'COVID-808.png', 'COVID-1753.png', 'COVID-1035.png', 'COVID-2528.png', 'COVID-1021.png', 'COVID-1747.png', 'COVID-3150.png', 'COVID-2919.png', 'COVID-439.png', 'COVID-377.png', 'COVID-2925.png', 'COVID-3385.png', 'COVID-1592.png', 'COVID-411.png', 'COVID-1586.png', 'COVID-405.png', 'COVID-3391.png', 'COVID-2931.png', 'COVID-363.png', 'COVID-388.png', 'COVID-2702.png', 'COVID-2064.png', 'COVID-1579.png', 'COVID-2070.png', 'COVID-3408.png', 'COVID-2716.png', 'COVID-3420.png', 'COVID-1237.png', 'COVID-1551.png', 'COVID-2058.png', 'COVID-3346.png', 'COVID-3352.png', 'COVID-1545.png', 'COVID-1223.png', 'COVID-3434.png', 'COVID-559.png', 'COVID-16.png', 'COVID-2879.png', 'COVID-1380.png', 'COVID-203.png', 'COVID-2851.png', 'COVID-3597.png', 'COVID-2689.png', 'COVID-565.png', 'COVID-571.png', 'COVID-2845.png', 'COVID-3583.png', 'COVID-1394.png', 'COVID-217.png', 'COVID-2676.png', 'COVID-3568.png', 'COVID-2110.png', 'COVID-1419.png', 'COVID-2104.png', 'COVID-2662.png', 'COVID-2892.png', 'COVID-3554.png', 'COVID-1343.png', 'COVID-1425.png', 'COVID-3232.png', 'COVID-3226.png', 'COVID-2138.png', 'COVID-1431.png', 'COVID-1357.png', 'COVID-2886.png', 'COVID-3540.png', 'COVID-983.png', 'COVID-1800.png', 'COVID-997.png', 'COVID-1814.png', 'COVID-767.png', 'COVID-1182.png', 'COVID-1196.png', 'COVID-1828.png', 'COVID-773.png', 'COVID-798.png', 'COVID-940.png', 'COVID-2312.png', 'COVID-2474.png', 'COVID-9.png', 'COVID-1169.png', 'COVID-2460.png', 'COVID-2306.png', 'COVID-3018.png', 'COVID-954.png', 'COVID-3030.png', 'COVID-1627.png', 'COVID-1141.png', 'COVID-2448.png', 'COVID-1155.png', 'COVID-968.png', 'COVID-1633.png', 'COVID-3024.png', 'COVID-1143.png', 'COVID-1625.png', 'COVID-3032.png', 'COVID-3026.png', 'COVID-2338.png', 'COVID-1631.png', 'COVID-1157.png', 'COVID-2476.png', 'COVID-2310.png', 'COVID-942.png', 'COVID-1619.png', 'COVID-956.png', 'COVID-2304.png', 'COVID-2462.png', 'COVID-1180.png', 'COVID-2489.png', 'COVID-765.png', 'COVID-771.png', 'COVID-1194.png', 'COVID-1802.png', 'COVID-759.png', 'COVID-981.png', 'COVID-1816.png', 'COVID-995.png', 'COVID-3230.png', 'COVID-1427.png', 'COVID-1341.png', 'COVID-3556.png', 'COVID-2890.png', 'COVID-2648.png', 'COVID-3542.png', 'COVID-2884.png', 'COVID-1355.png', 'COVID-1433.png', 'COVID-3224.png', 'COVID-598.png', 'COVID-2112.png', 'COVID-2674.png', 'COVID-1369.png', 'COVID-2660.png', 'COVID-2106.png', 'COVID-3218.png', 'COVID-567.png', 'COVID-28.png', 'COVID-3595.png', 'COVID-2853.png', 'COVID-201.png', 'COVID-1382.png', 'COVID-215.png', 'COVID-1396.png', 'COVID-3581.png', 'COVID-2847.png', 'COVID-573.png', 'COVID-14.png', 'COVID-229.png', 'COVID-3344.png', 'COVID-1553.png', 'COVID-1235.png', 'COVID-3422.png', 'COVID-2728.png', 'COVID-3436.png', 'COVID-1221.png', 'COVID-1547.png', 'COVID-3350.png', 'COVID-3378.png', 'COVID-2066.png', 'COVID-2700.png', 'COVID-1209.png', 'COVID-2714.png', 'COVID-2072.png', 'COVID-413.png', 'COVID-1590.png', 'COVID-2099.png', 'COVID-3387.png', 'COVID-2927.png', 'COVID-375.png', 'COVID-361.png', 'COVID-2933.png', 'COVID-3393.png', 'COVID-407.png', 'COVID-1584.png', 'COVID-349.png', 'COVID-1037.png', 'COVID-1989.png', 'COVID-1751.png', 'COVID-2258.png', 'COVID-3146.png', 'COVID-3152.png', 'COVID-1745.png', 'COVID-1023.png', 'COVID-188.png', 'COVID-2502.png', 'COVID-2264.png', 'COVID-836.png', 'COVID-822.png', 'COVID-1779.png', 'COVID-2270.png', 'COVID-3608.png', 'COVID-2516.png', 'COVID-177.png', 'COVID-3185.png', 'COVID-1792.png', 'COVID-611.png', 'COVID-1786.png', 'COVID-605.png', 'COVID-3191.png', 'COVID-163.png', 'COVID-1976.png', 'COVID-1962.png', 'COVID-639.png', 'COVID-638.png', 'COVID-1963.png', 'COVID-1977.png', 'COVID-3190.png', 'COVID-604.png', 'COVID-1787.png', 'COVID-162.png', 'COVID-176.png', 'COVID-610.png', 'COVID-1793.png', 'COVID-3184.png', 'COVID-2271.png', 'COVID-1778.png', 'COVID-823.png', 'COVID-2517.png', 'COVID-3609.png', 'COVID-2503.png', 'COVID-189.png', 'COVID-837.png', 'COVID-2265.png', 'COVID-1744.png', 'COVID-3153.png', 'COVID-1022.png', 'COVID-1036.png', 'COVID-3147.png', 'COVID-2259.png', 'COVID-1750.png', 'COVID-1988.png', 'COVID-348.png', 'COVID-2932.png', 'COVID-360.png', 'COVID-1585.png', 'COVID-406.png', 'COVID-3392.png', 'COVID-3386.png', 'COVID-2098.png', 'COVID-1591.png', 'COVID-412.png', 'COVID-374.png', 'COVID-2926.png', 'COVID-2715.png', 'COVID-2073.png', 'COVID-2067.png', 'COVID-3379.png', 'COVID-1208.png', 'COVID-2701.png', 'COVID-1220.png', 'COVID-3437.png', 'COVID-2729.png', 'COVID-3351.png', 'COVID-1546.png', 'COVID-1552.png', 'COVID-3345.png', 'COVID-3423.png', 'COVID-1234.png', 'COVID-228.png', 'COVID-15.png', 'COVID-2846.png', 'COVID-3580.png', 'COVID-1397.png', 'COVID-214.png', 'COVID-572.png', 'COVID-29.png', 'COVID-566.png', 'COVID-1383.png', 'COVID-200.png', 'COVID-2852.png', 'COVID-3594.png', 'COVID-2661.png', 'COVID-1368.png', 'COVID-3219.png', 'COVID-2107.png', 'COVID-2113.png', 'COVID-599.png', 'COVID-2675.png', 'COVID-1354.png', 'COVID-2885.png', 'COVID-3543.png', 'COVID-3225.png', 'COVID-1432.png', 'COVID-1426.png', 'COVID-3231.png', 'COVID-2649.png', 'COVID-2891.png', 'COVID-3557.png', 'COVID-1340.png', 'COVID-994.png', 'COVID-1817.png', 'COVID-980.png', 'COVID-758.png', 'COVID-1803.png', 'COVID-770.png', 'COVID-1195.png', 'COVID-2488.png', 'COVID-1181.png', 'COVID-764.png', 'COVID-2305.png', 'COVID-957.png', 'COVID-2463.png', 'COVID-2477.png', 'COVID-1618.png', 'COVID-943.png', 'COVID-2311.png', 'COVID-1630.png', 'COVID-2339.png', 'COVID-3027.png', 'COVID-1156.png', 'COVID-1142.png', 'COVID-3033.png', 'COVID-1624.png', 'COVID-2315.png', 'COVID-947.png', 'COVID-2473.png', 'COVID-2467.png', 'COVID-1608.png', 'COVID-953.png', 'COVID-2301.png', 'COVID-1620.png', 'COVID-3037.png', 'COVID-2329.png', 'COVID-1146.png', 'COVID-1152.png', 'COVID-3023.png', 'COVID-1634.png', 'COVID-1807.png', 'COVID-984.png', 'COVID-748.png', 'COVID-1813.png', 'COVID-990.png', 'COVID-760.png', 'COVID-1185.png', 'COVID-2498.png', 'COVID-1191.png', 'COVID-774.png', 'COVID-2671.png', 'COVID-1378.png', 'COVID-2117.png', 'COVID-3209.png', 'COVID-2103.png', 'COVID-589.png', 'COVID-2665.png', 'COVID-1344.png', 'COVID-2895.png', 'COVID-3553.png', 'COVID-3235.png', 'COVID-1422.png', 'COVID-1436.png', 'COVID-3221.png', 'COVID-2881.png', 'COVID-3547.png', 'COVID-2659.png', 'COVID-1350.png', 'COVID-238.png', 'COVID-11.png', 'COVID-2856.png', 'COVID-3590.png', 'COVID-204.png', 'COVID-1387.png', 'COVID-562.png', 'COVID-39.png', 'COVID-576.png', 'COVID-210.png', 'COVID-1393.png', 'COVID-2842.png', 'COVID-3584.png', 'COVID-2705.png', 'COVID-2063.png', 'COVID-3369.png', 'COVID-2077.png', 'COVID-1218.png', 'COVID-2711.png', 'COVID-1230.png', 'COVID-2739.png', 'COVID-3427.png', 'COVID-3341.png', 'COVID-1556.png', 'COVID-1542.png', 'COVID-3355.png', 'COVID-3433.png', 'COVID-1224.png', 'COVID-358.png', 'COVID-2922.png', 'COVID-370.png', 'COVID-416.png', 'COVID-1595.png', 'COVID-3382.png', 'COVID-2088.png', 'COVID-3396.png', 'COVID-402.png', 'COVID-1581.png', 'COVID-364.png', 'COVID-2936.png', 'COVID-2261.png', 'COVID-1768.png', 'COVID-833.png', 'COVID-2507.png', 'COVID-2513.png', 'COVID-199.png', 'COVID-827.png', 'COVID-2275.png', 'COVID-1754.png', 'COVID-3143.png', 'COVID-1032.png', 'COVID-1026.png', 'COVID-2249.png', 'COVID-3157.png', 'COVID-1998.png', 'COVID-1740.png', 'COVID-628.png', 'COVID-1973.png', 'COVID-1967.png', 'COVID-3180.png', 'COVID-1797.png', 'COVID-614.png', 'COVID-172.png', 'COVID-166.png', 'COVID-1783.png', 'COVID-600.png', 'COVID-3194.png', 'COVID-167.png', 'COVID-3195.png', 'COVID-601.png', 'COVID-1782.png', 'COVID-615.png', 'COVID-1796.png', 'COVID-3181.png', 'COVID-173.png', 'COVID-1966.png', 'COVID-1972.png', 'COVID-629.png', 'COVID-1027.png', 'COVID-1741.png', 'COVID-1999.png', 'COVID-3156.png', 'COVID-2248.png', 'COVID-3142.png', 'COVID-1755.png', 'COVID-1033.png', 'COVID-198.png', 'COVID-2512.png', 'COVID-2274.png', 'COVID-826.png', 'COVID-832.png', 'COVID-1769.png', 'COVID-2260.png', 'COVID-2506.png', 'COVID-1580.png', 'COVID-403.png', 'COVID-3397.png', 'COVID-2089.png', 'COVID-2937.png', 'COVID-365.png', 'COVID-371.png', 'COVID-2923.png', 'COVID-3383.png', 'COVID-1594.png', 'COVID-417.png', 'COVID-359.png', 'COVID-3354.png', 'COVID-1543.png', 'COVID-1225.png', 'COVID-3432.png', 'COVID-3426.png', 'COVID-2738.png', 'COVID-1231.png', 'COVID-1557.png', 'COVID-3340.png', 'COVID-2076.png', 'COVID-3368.png', 'COVID-2710.png', 'COVID-1219.png', 'COVID-2704.png', 'COVID-2062.png', 'COVID-577.png', 'COVID-38.png', 'COVID-3585.png', 'COVID-2843.png', 'COVID-1392.png', 'COVID-211.png', 'COVID-1386.png', 'COVID-205.png', 'COVID-3591.png', 'COVID-2857.png', 'COVID-563.png', 'COVID-239.png', 'COVID-10.png', 'COVID-3220.png', 'COVID-1437.png', 'COVID-1351.png', 'COVID-2658.png', 'COVID-3546.png', 'COVID-2880.png', 'COVID-3552.png', 'COVID-2894.png', 'COVID-1345.png', 'COVID-1423.png', 'COVID-3234.png', 'COVID-588.png', 'COVID-2102.png', 'COVID-2664.png', 'COVID-1379.png', 'COVID-2670.png', 'COVID-3208.png', 'COVID-2116.png', 'COVID-1190.png', 'COVID-2499.png', 'COVID-775.png', 'COVID-761.png', 'COVID-1184.png', 'COVID-991.png', 'COVID-1812.png', 'COVID-749.png', 'COVID-985.png', 'COVID-1806.png', 'COVID-1153.png', 'COVID-1635.png', 'COVID-3022.png', 'COVID-2328.png', 'COVID-3036.png', 'COVID-1621.png', 'COVID-1147.png', 'COVID-2466.png', 'COVID-2300.png', 'COVID-952.png', 'COVID-1609.png', 'COVID-946.png', 'COVID-2314.png', 'COVID-2472.png', 'COVID-950.png', 'COVID-788.png', 'COVID-2302.png', 'COVID-2464.png', 'COVID-1179.png', 'COVID-2470.png', 'COVID-3008.png', 'COVID-2316.png', 'COVID-944.png', 'COVID-3020.png', 'COVID-1637.png', 'COVID-1151.png', 'COVID-2458.png', 'COVID-1145.png', 'COVID-978.png', 'COVID-1623.png', 'COVID-3034.png', 'COVID-1810.png', 'COVID-993.png', 'COVID-1804.png', 'COVID-987.png', 'COVID-777.png', 'COVID-1192.png', 'COVID-1186.png', 'COVID-1838.png', 'COVID-763.png', 'COVID-3578.png', 'COVID-2666.png', 'COVID-2100.png', 'COVID-1409.png', 'COVID-2114.png', 'COVID-2672.png', 'COVID-2882.png', 'COVID-3544.png', 'COVID-1353.png', 'COVID-1435.png', 'COVID-3222.png', 'COVID-2128.png', 'COVID-3236.png', 'COVID-1421.png', 'COVID-1347.png', 'COVID-2896.png', 'COVID-3550.png', 'COVID-549.png', 'COVID-12.png', 'COVID-2869.png', 'COVID-213.png', 'COVID-1390.png', 'COVID-2699.png', 'COVID-2841.png', 'COVID-3587.png', 'COVID-575.png', 'COVID-561.png', 'COVID-2855.png', 'COVID-3593.png', 'COVID-207.png', 'COVID-1384.png', 'COVID-398.png', 'COVID-2712.png', 'COVID-2074.png', 'COVID-1569.png', 'COVID-2060.png', 'COVID-2706.png', 'COVID-3418.png', 'COVID-3430.png', 'COVID-1227.png', 'COVID-1541.png', 'COVID-3356.png', 'COVID-2048.png', 'COVID-3342.png', 'COVID-1555.png', 'COVID-1233.png', 'COVID-3424.png', 'COVID-2909.png', 'COVID-429.png', 'COVID-367.png', 'COVID-2935.png', 'COVID-3395.png', 'COVID-401.png', 'COVID-1582.png', 'COVID-415.png', 'COVID-1596.png', 'COVID-3381.png', 'COVID-2921.png', 'COVID-373.png', 'COVID-824.png', 'COVID-2276.png', 'COVID-3168.png', 'COVID-2510.png', 'COVID-1019.png', 'COVID-2504.png', 'COVID-2262.png', 'COVID-830.png', 'COVID-3154.png', 'COVID-818.png', 'COVID-1743.png', 'COVID-1025.png', 'COVID-2538.png', 'COVID-1031.png', 'COVID-1757.png', 'COVID-3140.png', 'COVID-1964.png', 'COVID-159.png', 'COVID-1970.png', 'COVID-1780.png', 'COVID-1958.png', 'COVID-603.png', 'COVID-3197.png', 'COVID-2289.png', 'COVID-165.png', 'COVID-171.png', 'COVID-3183.png', 'COVID-1794.png', 'COVID-617.png', 'COVID-170.png', 'COVID-616.png', 'COVID-1795.png', 'COVID-3182.png', 'COVID-2288.png', 'COVID-3196.png', 'COVID-602.png', 'COVID-1959.png', 'COVID-1781.png', 'COVID-164.png', 'COVID-1971.png', 'COVID-1965.png', 'COVID-158.png', 'COVID-1030.png', 'COVID-2539.png', 'COVID-3141.png', 'COVID-1756.png', 'COVID-1742.png', 'COVID-819.png', 'COVID-3155.png', 'COVID-1024.png', 'COVID-2505.png', 'COVID-831.png', 'COVID-2263.png', 'COVID-3169.png', 'COVID-2277.png', 'COVID-825.png', 'COVID-1018.png', 'COVID-2511.png', 'COVID-3380.png', 'COVID-1597.png', 'COVID-414.png', 'COVID-372.png', 'COVID-2920.png', 'COVID-2934.png', 'COVID-366.png', 'COVID-1583.png', 'COVID-400.png', 'COVID-3394.png', 'COVID-428.png', 'COVID-2908.png', 'COVID-1554.png', 'COVID-3343.png', 'COVID-3425.png', 'COVID-1232.png', 'COVID-1226.png', 'COVID-3431.png', 'COVID-2049.png', 'COVID-3357.png', 'COVID-1540.png', 'COVID-2061.png', 'COVID-1568.png', 'COVID-3419.png', 'COVID-2707.png', 'COVID-2713.png', 'COVID-399.png', 'COVID-2075.png', 'COVID-560.png', 'COVID-1385.png', 'COVID-206.png', 'COVID-3592.png', 'COVID-2854.png', 'COVID-3586.png', 'COVID-2840.png', 'COVID-2698.png', 'COVID-1391.png', 'COVID-212.png', 'COVID-574.png', 'COVID-13.png', 'COVID-2868.png', 'COVID-548.png', 'COVID-1420.png', 'COVID-3237.png', 'COVID-2129.png', 'COVID-3551.png', 'COVID-2897.png', 'COVID-1346.png', 'COVID-1352.png', 'COVID-3545.png', 'COVID-2883.png', 'COVID-3223.png', 'COVID-1434.png', 'COVID-2115.png', 'COVID-2673.png', 'COVID-2667.png', 'COVID-3579.png', 'COVID-1408.png', 'COVID-2101.png', 'COVID-1187.png', 'COVID-762.png', 'COVID-1839.png', 'COVID-776.png', 'COVID-1193.png', 'COVID-986.png', 'COVID-1805.png', 'COVID-992.png', 'COVID-1811.png', 'COVID-1144.png', 'COVID-3035.png', 'COVID-1622.png', 'COVID-979.png', 'COVID-1636.png', 'COVID-3021.png', 'COVID-2459.png', 'COVID-1150.png', 'COVID-2471.png', 'COVID-1178.png', 'COVID-945.png', 'COVID-2317.png', 'COVID-3009.png', 'COVID-2303.png', 'COVID-789.png', 'COVID-951.png', 'COVID-2465.png']\n"
     ]
    }
   ],
   "source": [
    "import os\n",
    "\n",
    "directory_path = 'covid19-radiography-dataset/covid19-radiography-dataset/COVID-19_Radiography_Dataset/COVID-19_Radiography_Dataset/COVID'\n",
    "\n",
    "urls = os.listdir(directory_path)\n",
    "print(urls)"
   ]
  },
  {
   "cell_type": "code",
   "execution_count": 21,
   "id": "1fdcd125",
   "metadata": {},
   "outputs": [
    {
     "name": "stdout",
     "output_type": "stream",
     "text": [
      "covid19-radiography-dataset/covid19-radiography-dataset/COVID-19_Radiography_Dataset/COVID-19_Radiography_Dataset/COVID/COVID-1.png\n"
     ]
    }
   ],
   "source": [
    "path = \"covid19-radiography-dataset/covid19-radiography-dataset/COVID-19_Radiography_Dataset/COVID-19_Radiography_Dataset/COVID\"\n",
    "file_path = path + \"/\" + urls[0]\n",
    "print(file_path)"
   ]
  },
  {
   "cell_type": "code",
   "execution_count": 22,
   "id": "5e095a63",
   "metadata": {},
   "outputs": [],
   "source": [
    "def loadImages(path, urls, target):\n",
    "  images = []\n",
    "  labels = []\n",
    "  for i in range(len(urls)):\n",
    "    img_path = path + \"/\" + urls[i]\n",
    "    img = cv2.imread(img_path)\n",
    "    img = img / 255.0\n",
    "    #print(img_path)\n",
    "    # if we want to resize the images\n",
    "    img = cv2.resize(img, (100, 100))\n",
    "    images.append(img)\n",
    "    labels.append(target)\n",
    "  images = np.asarray(images)\n",
    "  return images, labels"
   ]
  },
  {
   "cell_type": "code",
   "execution_count": 23,
   "id": "33ba7c55",
   "metadata": {},
   "outputs": [],
   "source": [
    "covid_path = \"covid19-radiography-dataset/covid19-radiography-dataset/COVID-19_Radiography_Dataset/COVID-19_Radiography_Dataset/COVID\"\n",
    "covidUrl = os.listdir(covid_path)\n",
    "covidImages, covidTargets = loadImages(covid_path, covidUrl, 1)"
   ]
  },
  {
   "cell_type": "code",
   "execution_count": 25,
   "id": "6df0af08",
   "metadata": {},
   "outputs": [
    {
     "data": {
      "text/plain": [
       "(3616, 3616)"
      ]
     },
     "execution_count": 25,
     "metadata": {},
     "output_type": "execute_result"
    }
   ],
   "source": [
    "len(covidUrl), len(covidImages)"
   ]
  },
  {
   "cell_type": "code",
   "execution_count": 26,
   "id": "0eeacf20",
   "metadata": {},
   "outputs": [],
   "source": [
    "normal_path = \"covid19-radiography-dataset/covid19-radiography-dataset/COVID-19_Radiography_Dataset/COVID-19_Radiography_Dataset/Normal\"\n",
    "normal_urls = os.listdir(normal_path)\n",
    "normalImages, normalTargets = loadImages(normal_path, normal_urls, 0)"
   ]
  },
  {
   "cell_type": "code",
   "execution_count": 27,
   "id": "34d40d5c",
   "metadata": {},
   "outputs": [
    {
     "data": {
      "text/plain": [
       "(3616, 100, 100, 3)"
      ]
     },
     "execution_count": 27,
     "metadata": {},
     "output_type": "execute_result"
    }
   ],
   "source": [
    "covidImages.shape"
   ]
  },
  {
   "cell_type": "code",
   "execution_count": 28,
   "id": "4c4269dd",
   "metadata": {},
   "outputs": [
    {
     "data": {
      "text/plain": [
       "(10192, 100, 100, 3)"
      ]
     },
     "execution_count": 28,
     "metadata": {},
     "output_type": "execute_result"
    }
   ],
   "source": [
    "normalImages.shape"
   ]
  },
  {
   "cell_type": "code",
   "execution_count": 29,
   "id": "346d853a",
   "metadata": {},
   "outputs": [],
   "source": [
    "data = np.r_[covidImages, normalImages]"
   ]
  },
  {
   "cell_type": "code",
   "execution_count": 30,
   "id": "3616ba10",
   "metadata": {},
   "outputs": [
    {
     "data": {
      "text/plain": [
       "(13808, 100, 100, 3)"
      ]
     },
     "execution_count": 30,
     "metadata": {},
     "output_type": "execute_result"
    }
   ],
   "source": [
    "data.shape\n"
   ]
  },
  {
   "cell_type": "code",
   "execution_count": 31,
   "id": "b3fada32",
   "metadata": {},
   "outputs": [],
   "source": [
    "targets = np.r_[covidTargets, normalTargets]"
   ]
  },
  {
   "cell_type": "code",
   "execution_count": 32,
   "id": "cef9c461",
   "metadata": {},
   "outputs": [
    {
     "data": {
      "text/plain": [
       "(13808,)"
      ]
     },
     "execution_count": 32,
     "metadata": {},
     "output_type": "execute_result"
    }
   ],
   "source": [
    "targets.shape"
   ]
  },
  {
   "cell_type": "code",
   "execution_count": 2,
   "id": "e62362f1",
   "metadata": {},
   "outputs": [
    {
     "name": "stdout",
     "output_type": "stream",
     "text": [
      "Requirement already satisfied: numpy in ./opt/anaconda3/lib/python3.8/site-packages (1.24.3)\n",
      "Note: you may need to restart the kernel to use updated packages.\n"
     ]
    }
   ],
   "source": [
    "pip install numpy --upgrade"
   ]
  },
  {
   "cell_type": "code",
   "execution_count": 5,
   "id": "568cbafc",
   "metadata": {},
   "outputs": [
    {
     "name": "stdout",
     "output_type": "stream",
     "text": [
      "\u001b[31mERROR: Could not find a version that satisfies the requirement scikit-learn==1.23.0 (from versions: 0.9, 0.10, 0.11, 0.12, 0.12.1, 0.13, 0.13.1, 0.14, 0.14.1, 0.15.0, 0.15.1, 0.15.2, 0.16.0, 0.16.1, 0.17, 0.17.1, 0.18, 0.18.1, 0.18.2, 0.19.0, 0.19.1, 0.19.2, 0.20.0, 0.20.1, 0.20.2, 0.20.3, 0.20.4, 0.21.1, 0.21.2, 0.21.3, 0.22, 0.22.1, 0.22.2, 0.22.2.post1, 0.23.0, 0.23.1, 0.23.2, 0.24.0, 0.24.1, 0.24.2, 1.0, 1.0.1, 1.0.2, 1.1.0, 1.1.1, 1.1.2, 1.1.3, 1.2.0rc1, 1.2.0, 1.2.1, 1.2.2, 1.3.0rc1)\u001b[0m\r\n",
      "\u001b[31mERROR: No matching distribution found for scikit-learn==1.23.0\u001b[0m\r\n"
     ]
    }
   ],
   "source": [
    "!pip install scikit-learn==0.24.2\n",
    "\n",
    "from sklearn.model_selection import train_test_split\n",
    "\n"
   ]
  },
  {
   "cell_type": "code",
   "execution_count": 1,
   "id": "7017af44",
   "metadata": {},
   "outputs": [
    {
     "name": "stderr",
     "output_type": "stream",
     "text": [
      "/Users/ellie/opt/anaconda3/lib/python3.8/site-packages/scipy/__init__.py:146: UserWarning: A NumPy version >=1.16.5 and <1.23.0 is required for this version of SciPy (detected version 1.24.3\n",
      "  warnings.warn(f\"A NumPy version >={np_minversion} and <{np_maxversion}\"\n"
     ]
    },
    {
     "ename": "ValueError",
     "evalue": "With n_samples=0, test_size=0.25 and train_size=None, the resulting train set will be empty. Adjust any of the aforementioned parameters.",
     "output_type": "error",
     "traceback": [
      "\u001b[0;31m---------------------------------------------------------------------------\u001b[0m",
      "\u001b[0;31mValueError\u001b[0m                                Traceback (most recent call last)",
      "\u001b[0;32m<ipython-input-1-ed8460e52c08>\u001b[0m in \u001b[0;36m<module>\u001b[0;34m\u001b[0m\n\u001b[1;32m      5\u001b[0m \u001b[0mtargets\u001b[0m \u001b[0;34m=\u001b[0m \u001b[0;34m[\u001b[0m\u001b[0;34m]\u001b[0m  \u001b[0;31m# Your targets as a valid collection (e.g., list or numpy array)\u001b[0m\u001b[0;34m\u001b[0m\u001b[0;34m\u001b[0m\u001b[0m\n\u001b[1;32m      6\u001b[0m \u001b[0;34m\u001b[0m\u001b[0m\n\u001b[0;32m----> 7\u001b[0;31m \u001b[0mx_train\u001b[0m\u001b[0;34m,\u001b[0m \u001b[0mx_test\u001b[0m\u001b[0;34m,\u001b[0m \u001b[0my_train\u001b[0m\u001b[0;34m,\u001b[0m \u001b[0my_test\u001b[0m \u001b[0;34m=\u001b[0m \u001b[0mtrain_test_split\u001b[0m\u001b[0;34m(\u001b[0m\u001b[0mdata\u001b[0m\u001b[0;34m,\u001b[0m \u001b[0mtargets\u001b[0m\u001b[0;34m,\u001b[0m \u001b[0mtest_size\u001b[0m\u001b[0;34m=\u001b[0m\u001b[0;36m0.25\u001b[0m\u001b[0;34m)\u001b[0m\u001b[0;34m\u001b[0m\u001b[0;34m\u001b[0m\u001b[0m\n\u001b[0m",
      "\u001b[0;32m~/opt/anaconda3/lib/python3.8/site-packages/sklearn/model_selection/_split.py\u001b[0m in \u001b[0;36mtrain_test_split\u001b[0;34m(test_size, train_size, random_state, shuffle, stratify, *arrays)\u001b[0m\n\u001b[1;32m   2173\u001b[0m \u001b[0;34m\u001b[0m\u001b[0m\n\u001b[1;32m   2174\u001b[0m     \u001b[0mn_samples\u001b[0m \u001b[0;34m=\u001b[0m \u001b[0m_num_samples\u001b[0m\u001b[0;34m(\u001b[0m\u001b[0marrays\u001b[0m\u001b[0;34m[\u001b[0m\u001b[0;36m0\u001b[0m\u001b[0;34m]\u001b[0m\u001b[0;34m)\u001b[0m\u001b[0;34m\u001b[0m\u001b[0;34m\u001b[0m\u001b[0m\n\u001b[0;32m-> 2175\u001b[0;31m     n_train, n_test = _validate_shuffle_split(n_samples, test_size, train_size,\n\u001b[0m\u001b[1;32m   2176\u001b[0m                                               default_test_size=0.25)\n\u001b[1;32m   2177\u001b[0m \u001b[0;34m\u001b[0m\u001b[0m\n",
      "\u001b[0;32m~/opt/anaconda3/lib/python3.8/site-packages/sklearn/model_selection/_split.py\u001b[0m in \u001b[0;36m_validate_shuffle_split\u001b[0;34m(n_samples, test_size, train_size, default_test_size)\u001b[0m\n\u001b[1;32m   1855\u001b[0m \u001b[0;34m\u001b[0m\u001b[0m\n\u001b[1;32m   1856\u001b[0m     \u001b[0;32mif\u001b[0m \u001b[0mn_train\u001b[0m \u001b[0;34m==\u001b[0m \u001b[0;36m0\u001b[0m\u001b[0;34m:\u001b[0m\u001b[0;34m\u001b[0m\u001b[0;34m\u001b[0m\u001b[0m\n\u001b[0;32m-> 1857\u001b[0;31m         raise ValueError(\n\u001b[0m\u001b[1;32m   1858\u001b[0m             \u001b[0;34m'With n_samples={}, test_size={} and train_size={}, the '\u001b[0m\u001b[0;34m\u001b[0m\u001b[0;34m\u001b[0m\u001b[0m\n\u001b[1;32m   1859\u001b[0m             \u001b[0;34m'resulting train set will be empty. Adjust any of the '\u001b[0m\u001b[0;34m\u001b[0m\u001b[0;34m\u001b[0m\u001b[0m\n",
      "\u001b[0;31mValueError\u001b[0m: With n_samples=0, test_size=0.25 and train_size=None, the resulting train set will be empty. Adjust any of the aforementioned parameters."
     ]
    }
   ],
   "source": [
    "from sklearn.model_selection import train_test_split\n",
    "\n",
    "\n",
    "data = []  # Your data as a valid collection (e.g., list or numpy array)\n",
    "targets = []  # Your targets as a valid collection (e.g., list or numpy array)\n",
    "\n",
    "x_train, x_test, y_train, y_test = train_test_split(data, targets, test_size=0.25)"
   ]
  },
  {
   "cell_type": "code",
   "execution_count": null,
   "id": "e2d73f28",
   "metadata": {},
   "outputs": [],
   "source": [
    "import tensorflow as tf\n"
   ]
  },
  {
   "cell_type": "code",
   "execution_count": null,
   "id": "6b849eac",
   "metadata": {},
   "outputs": [],
   "source": [
    "from tensorflow.keras.models import Sequential\n",
    "from tensorflow.keras.layers import Conv2D, MaxPooling2D, Flatten, Dense"
   ]
  },
  {
   "cell_type": "code",
   "execution_count": null,
   "id": "0f7a99f1",
   "metadata": {},
   "outputs": [],
   "source": [
    " import tensorflow as tf\n",
    "from tensorflow.keras.models import Sequential\n",
    "from tensorflow.keras.layers import Conv2D, MaxPooling2D, Flatten, Dense\n",
    "\n",
    "model = Sequential([\n",
    "    Conv2D(32, 3, input_shape=(100,100,3), activation='relu'),\n",
    "    MaxPooling2D(),\n",
    "    Conv2D(16, 3, activation='relu'),\n",
    "    MaxPooling2D(),\n",
    "    Conv2D(16, 3, activation='relu'),\n",
    "    MaxPooling2D(),\n",
    "    Flatten(),\n",
    "    Dense(512, activation='relu'),\n",
    "    Dense(256, activation='relu'),\n",
    "    Dense(1, activation='sigmoid')\n",
    "])\n",
    "\n",
    "model.summary()\n",
    "\n",
    "model.compile(optimizer='adam', loss='binary_crossentropy', metrics=['accuracy'])\n",
    "\n",
    "model.fit(x_train, y_train, batch_size=32, epochs=5, validation_data=(x_test, y_test))"
   ]
  },
  {
   "cell_type": "code",
   "execution_count": 1,
   "id": "396f77b0",
   "metadata": {},
   "outputs": [
    {
     "ename": "NameError",
     "evalue": "name 'plt' is not defined",
     "output_type": "error",
     "traceback": [
      "\u001b[0;31m---------------------------------------------------------------------------\u001b[0m",
      "\u001b[0;31mNameError\u001b[0m                                 Traceback (most recent call last)",
      "\u001b[0;32m<ipython-input-1-375b1570d84d>\u001b[0m in \u001b[0;36m<module>\u001b[0;34m\u001b[0m\n\u001b[0;32m----> 1\u001b[0;31m \u001b[0mplt\u001b[0m\u001b[0;34m.\u001b[0m\u001b[0mplot\u001b[0m\u001b[0;34m(\u001b[0m\u001b[0mmodel\u001b[0m\u001b[0;34m.\u001b[0m\u001b[0mhistory\u001b[0m\u001b[0;34m.\u001b[0m\u001b[0mhistory\u001b[0m\u001b[0;34m[\u001b[0m\u001b[0;34m'accuracy'\u001b[0m\u001b[0;34m]\u001b[0m\u001b[0;34m,\u001b[0m \u001b[0mlabel\u001b[0m \u001b[0;34m=\u001b[0m \u001b[0;34m'train accuracy'\u001b[0m\u001b[0;34m)\u001b[0m\u001b[0;34m\u001b[0m\u001b[0;34m\u001b[0m\u001b[0m\n\u001b[0m\u001b[1;32m      2\u001b[0m \u001b[0mplt\u001b[0m\u001b[0;34m.\u001b[0m\u001b[0mplot\u001b[0m\u001b[0;34m(\u001b[0m\u001b[0mmodel\u001b[0m\u001b[0;34m.\u001b[0m\u001b[0mhistory\u001b[0m\u001b[0;34m.\u001b[0m\u001b[0mhistory\u001b[0m\u001b[0;34m[\u001b[0m\u001b[0;34m'val_accuracy'\u001b[0m\u001b[0;34m]\u001b[0m\u001b[0;34m,\u001b[0m\u001b[0mlabel\u001b[0m \u001b[0;34m=\u001b[0m \u001b[0;34m'test_accuracy'\u001b[0m\u001b[0;34m)\u001b[0m\u001b[0;34m\u001b[0m\u001b[0;34m\u001b[0m\u001b[0m\n\u001b[1;32m      3\u001b[0m \u001b[0mplt\u001b[0m\u001b[0;34m.\u001b[0m\u001b[0mlegend\u001b[0m\u001b[0;34m(\u001b[0m\u001b[0;34m)\u001b[0m\u001b[0;34m\u001b[0m\u001b[0;34m\u001b[0m\u001b[0m\n\u001b[1;32m      4\u001b[0m \u001b[0mplt\u001b[0m\u001b[0;34m.\u001b[0m\u001b[0mshow\u001b[0m\u001b[0;34m(\u001b[0m\u001b[0;34m)\u001b[0m\u001b[0;34m\u001b[0m\u001b[0;34m\u001b[0m\u001b[0m\n",
      "\u001b[0;31mNameError\u001b[0m: name 'plt' is not defined"
     ]
    }
   ],
   "source": [
    "plt.plot(model.history.history['accuracy'], label = 'train accuracy')\n",
    "plt.plot(model.history.history['val_accuracy'],label = 'test_accuracy')\n",
    "plt.legend()\n",
    "plt.show()"
   ]
  },
  {
   "cell_type": "code",
   "execution_count": 2,
   "id": "32822ebc",
   "metadata": {},
   "outputs": [
    {
     "ename": "NameError",
     "evalue": "name 'plt' is not defined",
     "output_type": "error",
     "traceback": [
      "\u001b[0;31m---------------------------------------------------------------------------\u001b[0m",
      "\u001b[0;31mNameError\u001b[0m                                 Traceback (most recent call last)",
      "\u001b[0;32m<ipython-input-2-70730e941143>\u001b[0m in \u001b[0;36m<module>\u001b[0;34m\u001b[0m\n\u001b[0;32m----> 1\u001b[0;31m \u001b[0mplt\u001b[0m\u001b[0;34m.\u001b[0m\u001b[0mplot\u001b[0m\u001b[0;34m(\u001b[0m\u001b[0mmodel\u001b[0m\u001b[0;34m.\u001b[0m\u001b[0mhistory\u001b[0m\u001b[0;34m.\u001b[0m\u001b[0mhistory\u001b[0m\u001b[0;34m[\u001b[0m\u001b[0;34m'loss'\u001b[0m\u001b[0;34m]\u001b[0m\u001b[0;34m,\u001b[0m \u001b[0mlabel\u001b[0m \u001b[0;34m=\u001b[0m \u001b[0;34m'train loss'\u001b[0m\u001b[0;34m)\u001b[0m\u001b[0;34m\u001b[0m\u001b[0;34m\u001b[0m\u001b[0m\n\u001b[0m\u001b[1;32m      2\u001b[0m \u001b[0mplt\u001b[0m\u001b[0;34m.\u001b[0m\u001b[0mplot\u001b[0m\u001b[0;34m(\u001b[0m\u001b[0mmodel\u001b[0m\u001b[0;34m.\u001b[0m\u001b[0mhistory\u001b[0m\u001b[0;34m.\u001b[0m\u001b[0mhistory\u001b[0m\u001b[0;34m[\u001b[0m\u001b[0;34m'val_loss'\u001b[0m\u001b[0;34m]\u001b[0m\u001b[0;34m,\u001b[0m\u001b[0mlabel\u001b[0m \u001b[0;34m=\u001b[0m \u001b[0;34m'test_loss'\u001b[0m\u001b[0;34m)\u001b[0m\u001b[0;34m\u001b[0m\u001b[0;34m\u001b[0m\u001b[0m\n\u001b[1;32m      3\u001b[0m \u001b[0mplt\u001b[0m\u001b[0;34m.\u001b[0m\u001b[0mlegend\u001b[0m\u001b[0;34m(\u001b[0m\u001b[0;34m)\u001b[0m\u001b[0;34m\u001b[0m\u001b[0;34m\u001b[0m\u001b[0m\n\u001b[1;32m      4\u001b[0m \u001b[0mplt\u001b[0m\u001b[0;34m.\u001b[0m\u001b[0mshow\u001b[0m\u001b[0;34m(\u001b[0m\u001b[0;34m)\u001b[0m\u001b[0;34m\u001b[0m\u001b[0;34m\u001b[0m\u001b[0m\n",
      "\u001b[0;31mNameError\u001b[0m: name 'plt' is not defined"
     ]
    }
   ],
   "source": [
    "plt.plot(model.history.history['loss'], label = 'train loss')\n",
    "plt.plot(model.history.history['val_loss'],label = 'test_loss')\n",
    "plt.legend()\n",
    "plt.show()"
   ]
  },
  {
   "cell_type": "code",
   "execution_count": null,
   "id": "f57b4461",
   "metadata": {},
   "outputs": [],
   "source": []
  },
  {
   "cell_type": "code",
   "execution_count": null,
   "id": "a643b44b",
   "metadata": {},
   "outputs": [],
   "source": []
  }
 ],
 "metadata": {
  "kernelspec": {
   "display_name": "Python 3",
   "language": "python",
   "name": "python3"
  },
  "language_info": {
   "codemirror_mode": {
    "name": "ipython",
    "version": 3
   },
   "file_extension": ".py",
   "mimetype": "text/x-python",
   "name": "python",
   "nbconvert_exporter": "python",
   "pygments_lexer": "ipython3",
   "version": "3.8.2"
  }
 },
 "nbformat": 4,
 "nbformat_minor": 5
}
